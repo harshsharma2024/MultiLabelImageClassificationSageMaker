{
 "cells": [
  {
   "cell_type": "code",
   "execution_count": 2,
   "metadata": {},
   "outputs": [],
   "source": [
    "import os\n",
    "import json\n",
    "import logging\n",
    "from datetime import datetime"
   ]
  },
  {
   "cell_type": "code",
   "execution_count": 3,
   "metadata": {},
   "outputs": [
    {
     "name": "stdout",
     "output_type": "stream",
     "text": [
      "sagemaker.config INFO - Not applying SDK defaults from location: /etc/xdg/xdg-ubuntu/sagemaker/config.yaml\n",
      "sagemaker.config INFO - Not applying SDK defaults from location: /home/harsh_arma/.config/sagemaker/config.yaml\n"
     ]
    }
   ],
   "source": [
    "import boto3\n",
    "import sagemaker\n",
    "from sagemaker import get_execution_role\n",
    "from sagemaker.amazon.amazon_estimator import get_image_uri"
   ]
  },
  {
   "cell_type": "code",
   "execution_count": 4,
   "metadata": {},
   "outputs": [],
   "source": [
    "boto3.set_stream_logger(name=\"botocore.credentials\", level=logging.WARNING)\n"
   ]
  },
  {
   "cell_type": "code",
   "execution_count": 5,
   "metadata": {},
   "outputs": [
    {
     "name": "stdout",
     "output_type": "stream",
     "text": [
      "AWS Configuration is successful.\n",
      "Available S3 Buckets:\n",
      "- airbyte-data-bucket\n",
      "- apple-maps-rank-data\n",
      "- aws-cloudtrail-logs-173829655778-1bc62e66\n",
      "- aws-sam-cli-managed-default-samclisourcebucket-ujqrexj3n4l8\n",
      "- cf-templates-1f8yr71fcychj-us-east-1\n",
      "- chat-widget-dev-serverlessdeploymentbucket-c2tv25twqqud\n",
      "- chat-widget-local-serverlessdeploymentbucket-5d5l8p5zoshf\n",
      "- chrone-app-chat-campaign-jsons\n",
      "- chrone-biz-keyword-jsons\n",
      "- chrone-biz-react-website-dev\n",
      "- chrone-biz-website-react\n",
      "- chrone-community-data\n",
      "- chrone-email-campaign-jsons\n",
      "- chrone-global-assets\n",
      "- chrone-internal-media-generation-reactjs\n",
      "- chrone-lambda-layers-zip\n",
      "- chrone-lead-magnet\n",
      "- chrone-lead-magnet-dev\n",
      "- chrone-ml-models\n",
      "- chrone-public-media\n",
      "- chrone-sales-rank-extraction-jsons\n",
      "- chrone-sms-campaign-jsons\n",
      "- chrone-sp-website\n",
      "- chrone-sp-website-internal\n",
      "- chrone-sp-website-media-bank\n",
      "- chrone-sp-website-pages\n",
      "- chrone-ui-reactjs\n",
      "- chrone-website\n",
      "- chrone-website-edit-application\n",
      "- chrone.ai\n",
      "- chrone.app\n",
      "- chrone.biz\n",
      "- chrone.io\n",
      "- chrone.io.dev\n",
      "- chroneapp\n",
      "- city-wide-rank-data\n",
      "- codepipeline-us-east-1-599792983945\n",
      "- codepipeline-us-east-2-30400643843\n",
      "- comms-outgoing-data\n",
      "- config-bucket-173829655778\n",
      "- dms-hexiolxaax5deqvmlbyuvhegmk2qdqobfndzwti\n",
      "- dms-jecnzguevtw64ekptbcezf7mgheb422ujwbgimq\n",
      "- elasticbeanstalk-ap-south-1-173829655778\n",
      "- elasticbeanstalk-ap-southeast-1-173829655778\n",
      "- elasticbeanstalk-us-east-1-173829655778\n",
      "- elasticbeanstalk-us-east-2-173829655778\n",
      "- fetchgmbdata\n",
      "- figma.images\n",
      "- fireflies-ml-model-files\n",
      "- gbp-files-backup\n",
      "- gbp-maps-rank-data\n",
      "- gbp-post-images\n",
      "- gbp-posts-image-bank\n",
      "- gbp-posts-templates\n",
      "- gmaps-leads-data\n",
      "- gmb-media-tracking-logs\n",
      "- gmb-sp-image-bank\n",
      "- gmb-sp-image-bank-instagram\n",
      "- gmb-sp-image-bank-preselection\n",
      "- gmb-sp-image-thumbnail-bank\n",
      "- googleimpressionkeywords\n",
      "- imagekitio-temp-bucket\n",
      "- imagetaggingdemo\n",
      "- just-call-transcripts\n",
      "- mixpanel-app\n",
      "- mixpanel-athena-data\n",
      "- mixpanel-chrone-app\n",
      "- mixpanel-landing-page-data\n",
      "- mixpanel-timelyai-data\n",
      "- omnichannel.attachments\n",
      "- onboarding-data-bucket\n",
      "- pipedrive-athena-data-sync\n",
      "- pipedrive-timelyai-data\n",
      "- pipedrive-total-attempts\n",
      "- postgres-redshift\n",
      "- retoolkeywordhelp\n",
      "- sagemaker-studio-173829655778-cu7rdt9zjm8\n",
      "- sagemaker-studio-t8sszes6zhm\n",
      "- sagemaker-us-east-1-173829655778\n",
      "- scheduling-reminder-response\n",
      "- search-console-data\n",
      "- spwebsitetest\n",
      "- sql-data-dump-bucket\n",
      "- test-website-chrone\n",
      "- test174802-dev\n",
      "- testbucket-india\n",
      "- testing-images-resizing\n",
      "- tevico-cur-bucket-86dc8e10\n",
      "- timelyai-athena-query-data\n",
      "- timelyai-cdn-assets\n",
      "- timelyai-keys\n",
      "- timelyai-lambda-cicd\n",
      "- timelyai-lambda-deploy-bucket\n",
      "- timelyai-lambda-deploy-bucket-dev\n",
      "- timelyai-logs-bucket\n",
      "- timelyai-react\n",
      "- timelyai-received-email\n",
      "- timelyai-retool-bulk-comms-data\n",
      "- timelyai-user-profile-pics\n",
      "- twilio-gpt-tagged-data\n",
      "- vinay-temp\n",
      "- web-chat-app-dashboard\n",
      "- website-hosting-test.in\n",
      "- website-screenshot-chrone\n",
      "- website-updation-dev-serverlessdeploymentbucket-1rjbyu883h8kf\n"
     ]
    },
    {
     "data": {
      "text/plain": [
       "True"
      ]
     },
     "execution_count": 5,
     "metadata": {},
     "output_type": "execute_result"
    }
   ],
   "source": [
    "def check_aws_configuration():\n",
    "    try:\n",
    "        # Attempt to create an AWS S3 client\n",
    "        s3 = boto3.client('s3')\n",
    "        \n",
    "        # List buckets to verify AWS credentials and region\n",
    "        buckets = s3.list_buckets()\n",
    "        \n",
    "        print(\"AWS Configuration is successful.\")\n",
    "        print(\"Available S3 Buckets:\")\n",
    "        for bucket in buckets['Buckets']:\n",
    "            print(f\"- {bucket['Name']}\")\n",
    "        \n",
    "        return True\n",
    "    except Exception as e:\n",
    "        print(f\"Error: {e}\")\n",
    "        print(\"AWS Configuration is not successful.\")\n",
    "        return False\n",
    "\n",
    "# Check AWS configuration\n",
    "check_aws_configuration()"
   ]
  },
  {
   "cell_type": "code",
   "execution_count": 6,
   "metadata": {},
   "outputs": [
    {
     "name": "stdout",
     "output_type": "stream",
     "text": [
      "us-east-1\n"
     ]
    }
   ],
   "source": [
    "# sess = sagemaker.Session()\n",
    "sess = sagemaker.Session(boto_session=boto3.Session(region_name='us-east-1'))\n",
    "region = sess.boto_region_name\n",
    "print(region)"
   ]
  },
  {
   "cell_type": "code",
   "execution_count": 7,
   "metadata": {},
   "outputs": [],
   "source": [
    "role_arn = \"arn:aws:iam::173829655778:role/sage_make_full_access\""
   ]
  },
  {
   "cell_type": "code",
   "execution_count": 8,
   "metadata": {},
   "outputs": [],
   "source": [
    "bucket_name = \"imagetaggingdemo\"\n",
    "data_path = \"img_clf_multilabel_lst\"\n",
    "\n",
    "nclasses = 131\n",
    "nimgs_train = 25\n",
    "nepochs = 10\n",
    "mini_batch_size = 3\n",
    "\n",
    "train_instance_type = \"ml.g4dn.xlarge\"\n",
    "job_name_prefix = \"img-clf-multilabel\""
   ]
  },
  {
   "cell_type": "code",
   "execution_count": 9,
   "metadata": {},
   "outputs": [
    {
     "name": "stderr",
     "output_type": "stream",
     "text": [
      "Defaulting to the only supported framework/algorithm version: 1. Ignoring framework/algorithm version: latest.\n"
     ]
    },
    {
     "name": "stdout",
     "output_type": "stream",
     "text": [
      "811284229777.dkr.ecr.us-east-1.amazonaws.com/image-classification:1\n"
     ]
    }
   ],
   "source": [
    "train_image_uri = sagemaker.image_uris.retrieve(\n",
    "    framework=\"image-classification\",\n",
    "    region=region,\n",
    "    image_scope=\"training\",\n",
    "    version=\"latest\",\n",
    ")\n",
    "print(train_image_uri)"
   ]
  },
  {
   "cell_type": "code",
   "execution_count": 10,
   "metadata": {},
   "outputs": [],
   "source": [
    "s3_output_path = \"s3://{}/{}/{}\".format(bucket_name, data_path, \"model_output\")\n"
   ]
  },
  {
   "cell_type": "code",
   "execution_count": 11,
   "metadata": {},
   "outputs": [],
   "source": [
    "clf_estimator = sagemaker.estimator.Estimator(\n",
    "    image_uri=train_image_uri,\n",
    "    role=role_arn,\n",
    "    instance_count=1,\n",
    "    instance_type=train_instance_type,\n",
    "    volume_size=50,\n",
    "    max_run=360000,\n",
    "    input_mode=\"File\",\n",
    "    output_path=s3_output_path,\n",
    "    sagemaker_session=sess,\n",
    ")"
   ]
  },
  {
   "cell_type": "code",
   "execution_count": 12,
   "metadata": {},
   "outputs": [],
   "source": [
    "clf_estimator.set_hyperparameters(\n",
    "    num_classes=nclasses,  # update this\n",
    "    epochs=nepochs,  # update this\n",
    "    num_training_samples=nimgs_train,  # update this\n",
    "    mini_batch_size=mini_batch_size,  # update this\n",
    "    num_layers=18,\n",
    "    use_pretrained_model=1,\n",
    "    image_shape=\"3,224,224\",\n",
    "    resize=256,\n",
    "    learning_rate=0.001,\n",
    "    use_weighted_loss=1,\n",
    "    augmentation_type=\"crop_color_transform\",\n",
    "    precision_dtype=\"float32\",\n",
    "    multi_label=1,\n",
    ")"
   ]
  },
  {
   "cell_type": "code",
   "execution_count": 13,
   "metadata": {},
   "outputs": [],
   "source": [
    "s3_train_imgs = \"s3://{}/{}/{}\".format(bucket_name, data_path, \"train_imgs\")\n",
    "s3_valid_imgs = \"s3://{}/{}/{}\".format(bucket_name, data_path, \"valid_imgs\")\n",
    "s3_train_annot = \"s3://{}/{}/{}\".format(bucket_name, data_path, \"train_annots\")\n",
    "s3_valid_annot = \"s3://{}/{}/{}\".format(bucket_name, data_path, \"valid_annots\")\n",
    "\n",
    "train_imgs = sagemaker.inputs.TrainingInput(\n",
    "    s3_train_imgs,\n",
    "    distribution=\"FullyReplicated\",\n",
    "    content_type=\"application/jpeg\",\n",
    "    s3_data_type=\"S3Prefix\",\n",
    ")\n",
    "valid_imgs = sagemaker.inputs.TrainingInput(\n",
    "    s3_valid_imgs,\n",
    "    distribution=\"FullyReplicated\",\n",
    "    content_type=\"application/jpeg\",\n",
    "    s3_data_type=\"S3Prefix\",\n",
    ")\n",
    "train_annot = sagemaker.inputs.TrainingInput(\n",
    "    s3_train_annot,\n",
    "    distribution=\"FullyReplicated\",\n",
    "    content_type=\"application/jpeg\",\n",
    "    s3_data_type=\"S3Prefix\",\n",
    ")\n",
    "valid_annot = sagemaker.inputs.TrainingInput(\n",
    "    s3_valid_annot,\n",
    "    distribution=\"FullyReplicated\",\n",
    "    content_type=\"application/jpeg\",\n",
    "    s3_data_type=\"S3Prefix\",\n",
    ")\n",
    "\n",
    "data_channels = {\n",
    "    \"train\": train_imgs,\n",
    "    \"validation\": valid_imgs,\n",
    "    \"train_lst\": train_annot,\n",
    "    \"validation_lst\": valid_annot,\n",
    "}"
   ]
  },
  {
   "cell_type": "code",
   "execution_count": 14,
   "metadata": {},
   "outputs": [
    {
     "name": "stdout",
     "output_type": "stream",
     "text": [
      "2.201.0\n"
     ]
    }
   ],
   "source": [
    "print(sagemaker.__version__)\n"
   ]
  },
  {
   "cell_type": "code",
   "execution_count": 15,
   "metadata": {},
   "outputs": [
    {
     "name": "stdout",
     "output_type": "stream",
     "text": [
      "img-clf-multilabel2023-12-20-12-42-28\n"
     ]
    }
   ],
   "source": [
    "timestamp = (\n",
    "    str(datetime.now().replace(microsecond=0)).replace(\" \", \"-\").replace(\":\", \"-\")\n",
    ")\n",
    "job_name = job_name_prefix + timestamp\n",
    "print(job_name)"
   ]
  },
  {
   "cell_type": "code",
   "execution_count": 20,
   "metadata": {},
   "outputs": [
    {
     "name": "stderr",
     "output_type": "stream",
     "text": [
      "INFO:sagemaker:Creating training-job with name: img-clf-multilabel2023-12-20-12-42-28\n"
     ]
    },
    {
     "name": "stdout",
     "output_type": "stream",
     "text": [
      "2023-12-20 07:13:53 Starting - Starting the training job...\n",
      "2023-12-20 07:14:09 Starting - Preparing the instances for training.....\n",
      "2023-12-20 07:15:45 Downloading - Downloading input data...\n",
      "2023-12-20 07:16:15 Downloading - Downloading the training image.................\n",
      "2023-12-20 07:20:51 Training - Training image download completed. Training in progress..Docker entrypoint called with argument(s): train\n",
      "Running default environment configuration script\n",
      "Nvidia gpu devices, drivers and cuda toolkit versions (only available on hosts with GPU):\n",
      "Wed Dec 20 07:21:04 2023       \n",
      "+---------------------------------------------------------------------------------------+\n",
      "| NVIDIA-SMI 535.104.12             Driver Version: 535.104.12   CUDA Version: 12.2     |\n",
      "|-----------------------------------------+----------------------+----------------------+\n",
      "| GPU  Name                 Persistence-M | Bus-Id        Disp.A | Volatile Uncorr. ECC |\n",
      "| Fan  Temp   Perf          Pwr:Usage/Cap |         Memory-Usage | GPU-Util  Compute M. |\n",
      "|                                         |                      |               MIG M. |\n",
      "|=========================================+======================+======================|\n",
      "|   0  Tesla T4                       On  | 00000000:00:1E.0 Off |                    0 |\n",
      "| N/A   23C    P8               8W /  70W |      2MiB / 15360MiB |      0%      Default |\n",
      "|                                         |                      |                  N/A |\n",
      "+-----------------------------------------+----------------------+----------------------+\n",
      "                                                                                         \n",
      "+---------------------------------------------------------------------------------------+\n",
      "| Processes:                                                                            |\n",
      "|  GPU   GI   CI        PID   Type   Process name                            GPU Memory |\n",
      "|        ID   ID                                                             Usage      |\n",
      "|=======================================================================================|\n",
      "|  No running processes found                                                           |\n",
      "+---------------------------------------------------------------------------------------+\n",
      "Checking for nvidia driver and cuda compatibility.\n",
      "CUDA Compatibility driver provided.\n",
      "Proceeding with compatibility check between driver, cuda-toolkit and cuda-compat.\n",
      "Detected cuda-toolkit version: 11.1.\n",
      "Detected cuda-compat version: 455.32.00.\n",
      "Detected Nvidia driver version: 535.104.12.\n",
      "Nvidia driver compatible with cuda-toolkit. Disabling cuda-compat.\n",
      "/opt/amazon/lib/python3.8/site-packages/mxnet/model.py:97: SyntaxWarning: \"is\" with a literal. Did you mean \"==\"?\n",
      "  if num_device is 1 and 'dist' not in kvstore:\n",
      "[12/20/2023 07:21:07 INFO 140066074707776] Reading default configuration from /opt/amazon/lib/python3.8/site-packages/image_classification/default-input.json: {'use_pretrained_model': 0, 'num_layers': 152, 'epochs': 30, 'learning_rate': 0.1, 'lr_scheduler_factor': 0.1, 'optimizer': 'sgd', 'momentum': 0, 'weight_decay': 0.0001, 'beta_1': 0.9, 'beta_2': 0.999, 'eps': 1e-08, 'gamma': 0.9, 'mini_batch_size': 32, 'image_shape': '3,224,224', 'precision_dtype': 'float32'}\n",
      "[12/20/2023 07:21:07 INFO 140066074707776] Merging with provided configuration from /opt/ml/input/config/hyperparameters.json: {'augmentation_type': 'crop_color_transform', 'epochs': '10', 'image_shape': '3,224,224', 'learning_rate': '0.001', 'mini_batch_size': '3', 'multi_label': '1', 'num_classes': '131', 'num_layers': '18', 'num_training_samples': '25', 'precision_dtype': 'float32', 'resize': '256', 'use_pretrained_model': '1', 'use_weighted_loss': '1'}\n",
      "[12/20/2023 07:21:07 INFO 140066074707776] Final configuration: {'use_pretrained_model': '1', 'num_layers': '18', 'epochs': '10', 'learning_rate': '0.001', 'lr_scheduler_factor': 0.1, 'optimizer': 'sgd', 'momentum': 0, 'weight_decay': 0.0001, 'beta_1': 0.9, 'beta_2': 0.999, 'eps': 1e-08, 'gamma': 0.9, 'mini_batch_size': '3', 'image_shape': '3,224,224', 'precision_dtype': 'float32', 'augmentation_type': 'crop_color_transform', 'multi_label': '1', 'num_classes': '131', 'num_training_samples': '25', 'resize': '256', 'use_weighted_loss': '1'}\n",
      "[12/20/2023 07:21:07 INFO 140066074707776] Searching for .lst files in /opt/ml/input/data/train_lst.\n",
      "[12/20/2023 07:21:07 INFO 140066074707776] Creating record files for train.lst\n",
      "[12/20/2023 07:21:07 INFO 140066074707776] Done creating record files...\n",
      "[12/20/2023 07:21:07 INFO 140066074707776] Searching for .lst files in /opt/ml/input/data/validation_lst.\n",
      "[12/20/2023 07:21:07 INFO 140066074707776] Creating record files for valid.lst\n",
      "[12/20/2023 07:21:07 INFO 140066074707776] Done creating record files...\n",
      "[12/20/2023 07:21:07 WARNING 140066074707776] Some of the classes in a multi-label input are not represented in the input data.\n",
      "[12/20/2023 07:21:07 INFO 140066074707776] label-format is multi-hot\n",
      "[12/20/2023 07:21:07 INFO 140066074707776] use_pretrained_model: 1\n",
      "[12/20/2023 07:21:07 INFO 140066074707776] multi_label: 1\n",
      "[12/20/2023 07:21:07 INFO 140066074707776] Using pretrained model for initializing weights and transfer learning.\n",
      "[12/20/2023 07:21:07 INFO 140066074707776] ---- Parameters ----\n",
      "[12/20/2023 07:21:07 INFO 140066074707776] num_layers: 18\n",
      "[12/20/2023 07:21:07 INFO 140066074707776] data type: <class 'numpy.float32'>\n",
      "[12/20/2023 07:21:07 INFO 140066074707776] epochs: 10\n",
      "[12/20/2023 07:21:07 INFO 140066074707776] image resize size: 256\n",
      "[12/20/2023 07:21:07 INFO 140066074707776] optimizer: sgd\n",
      "[12/20/2023 07:21:07 INFO 140066074707776] momentum: 0.9\n",
      "[12/20/2023 07:21:07 INFO 140066074707776] weight_decay: 0.0001\n",
      "[12/20/2023 07:21:07 INFO 140066074707776] learning_rate: 0.001\n",
      "[12/20/2023 07:21:07 INFO 140066074707776] num_training_samples: 25\n",
      "[12/20/2023 07:21:07 INFO 140066074707776] mini_batch_size: 3\n",
      "[12/20/2023 07:21:07 INFO 140066074707776] image_shape: 3,224,224\n",
      "[12/20/2023 07:21:07 INFO 140066074707776] num_classes: 131\n",
      "[12/20/2023 07:21:07 INFO 140066074707776] augmentation_type: crop_color_transform\n",
      "[12/20/2023 07:21:07 INFO 140066074707776] kv_store: device\n",
      "[12/20/2023 07:21:07 INFO 140066074707776] checkpoint_frequency not set, will store the best model\n",
      "[12/20/2023 07:21:07 INFO 140066074707776] --------------------\n",
      "[07:21:07] /opt/brazil-pkg-cache/packages/AIAlgorithmsMXNet/AIAlgorithmsMXNet-1.4.x_ecl_Cuda_11.1.x.335.0/AL2_x86_64/generic-flavor/src/src/nnvm/legacy_json_util.cc:209: Loading symbol saved by previous version v0.8.0. Attempting to upgrade...\n",
      "[07:21:07] /opt/brazil-pkg-cache/packages/AIAlgorithmsMXNet/AIAlgorithmsMXNet-1.4.x_ecl_Cuda_11.1.x.335.0/AL2_x86_64/generic-flavor/src/src/nnvm/legacy_json_util.cc:217: Symbol successfully upgraded!\n",
      "/opt/amazon/python3.8/lib/python3.8/subprocess.py:848: RuntimeWarning: line buffering (buffering=1) isn't supported in binary mode, the default buffer size will be used\n",
      "  self.stdout = io.open(c2pread, 'rb', bufsize)\n",
      "[12/20/2023 07:21:07 INFO 140066074707776] Setting number of threads: 3\n",
      "[07:21:11] /opt/brazil-pkg-cache/packages/AIAlgorithmsMXNet/AIAlgorithmsMXNet-1.4.x_ecl_Cuda_11.1.x.335.0/AL2_x86_64/generic-flavor/src/src/operator/nn/./cudnn/./cudnn_algoreg-inl.h:97: Running performance tests to find the best convolution algorithm, this can take a while... (setting env variable MXNET_CUDNN_AUTOTUNE_DEFAULT to 0 to disable)\n",
      "[12/20/2023 07:21:12 INFO 140066074707776] Epoch[0] Train-accuracy=0.757316\n",
      "[12/20/2023 07:21:12 INFO 140066074707776] Epoch[0] Time cost=0.610\n",
      "[12/20/2023 07:21:12 INFO 140066074707776] Epoch[0] Validation-accuracy=0.984733\n",
      "[12/20/2023 07:21:12 INFO 140066074707776] Storing the best model with validation accuracy: 0.984733\n",
      "[12/20/2023 07:21:12 INFO 140066074707776] Saved checkpoint to \"/opt/ml/model/image-classification-0001.params\"\n",
      "[12/20/2023 07:21:12 INFO 140066074707776] Epoch[1] Train-accuracy=0.984097\n",
      "[12/20/2023 07:21:12 INFO 140066074707776] Epoch[1] Time cost=0.239\n",
      "[12/20/2023 07:21:12 INFO 140066074707776] Epoch[1] Validation-accuracy=0.982188\n",
      "[12/20/2023 07:21:13 INFO 140066074707776] Epoch[2] Train-accuracy=0.985369\n",
      "[12/20/2023 07:21:13 INFO 140066074707776] Epoch[2] Time cost=0.246\n",
      "[12/20/2023 07:21:13 INFO 140066074707776] Epoch[2] Validation-accuracy=0.983885\n",
      "[12/20/2023 07:21:13 INFO 140066074707776] Epoch[3] Train-accuracy=0.991730\n",
      "[12/20/2023 07:21:13 INFO 140066074707776] Epoch[3] Time cost=0.213\n",
      "[12/20/2023 07:21:13 INFO 140066074707776] Epoch[3] Validation-accuracy=0.988126\n",
      "[12/20/2023 07:21:14 INFO 140066074707776] Storing the best model with validation accuracy: 0.988126\n",
      "[12/20/2023 07:21:14 INFO 140066074707776] Saved checkpoint to \"/opt/ml/model/image-classification-0004.params\"\n",
      "[12/20/2023 07:21:14 INFO 140066074707776] Epoch[4] Train-accuracy=0.993639\n",
      "[12/20/2023 07:21:14 INFO 140066074707776] Epoch[4] Time cost=0.292\n",
      "[12/20/2023 07:21:14 INFO 140066074707776] Epoch[4] Validation-accuracy=0.992366\n",
      "[12/20/2023 07:21:14 INFO 140066074707776] Storing the best model with validation accuracy: 0.992366\n",
      "[12/20/2023 07:21:14 INFO 140066074707776] Saved checkpoint to \"/opt/ml/model/image-classification-0005.params\"\n",
      "[12/20/2023 07:21:15 INFO 140066074707776] Epoch[5] Train-accuracy=0.995547\n",
      "[12/20/2023 07:21:15 INFO 140066074707776] Epoch[5] Time cost=0.284\n",
      "[12/20/2023 07:21:15 INFO 140066074707776] Epoch[5] Validation-accuracy=0.996607\n",
      "[12/20/2023 07:21:15 INFO 140066074707776] Storing the best model with validation accuracy: 0.996607\n",
      "[12/20/2023 07:21:15 INFO 140066074707776] Saved checkpoint to \"/opt/ml/model/image-classification-0006.params\"\n",
      "[12/20/2023 07:21:15 INFO 140066074707776] Epoch[6] Train-accuracy=0.994275\n",
      "[12/20/2023 07:21:15 INFO 140066074707776] Epoch[6] Time cost=0.191\n",
      "[12/20/2023 07:21:15 INFO 140066074707776] Epoch[6] Validation-accuracy=0.989822\n",
      "[12/20/2023 07:21:16 INFO 140066074707776] Epoch[7] Train-accuracy=0.993957\n",
      "[12/20/2023 07:21:16 INFO 140066074707776] Epoch[7] Time cost=0.239\n",
      "[12/20/2023 07:21:16 INFO 140066074707776] Epoch[7] Validation-accuracy=0.988550\n",
      "[12/20/2023 07:21:16 INFO 140066074707776] Epoch[8] Train-accuracy=0.993321\n",
      "[12/20/2023 07:21:16 INFO 140066074707776] Epoch[8] Time cost=0.224\n",
      "[12/20/2023 07:21:16 INFO 140066074707776] Epoch[8] Validation-accuracy=0.980492\n",
      "[12/20/2023 07:21:16 INFO 140066074707776] Epoch[9] Train-accuracy=0.988550\n",
      "[12/20/2023 07:21:16 INFO 140066074707776] Epoch[9] Time cost=0.186\n",
      "[12/20/2023 07:21:16 INFO 140066074707776] Epoch[9] Validation-accuracy=0.990670\n",
      "\n",
      "2023-12-20 07:21:33 Uploading - Uploading generated training model\n",
      "2023-12-20 07:21:33 Completed - Training job completed\n",
      "Training seconds: 348\n",
      "Billable seconds: 348\n"
     ]
    }
   ],
   "source": [
    "clf_estimator.fit(inputs=data_channels, logs=True, job_name=job_name)\n"
   ]
  },
  {
   "cell_type": "code",
   "execution_count": 21,
   "metadata": {},
   "outputs": [
    {
     "name": "stdout",
     "output_type": "stream",
     "text": [
      "2.201.0\n",
      "/home/harsh_arma/Documents/Coding stuff/Intern__/TASK/Image_tagging/ImageClassification/env/lib/python3.10/site-packages/sagemaker/__init__.py\n"
     ]
    }
   ],
   "source": [
    "print(sagemaker.__version__)\n",
    "print(sagemaker.__file__)\n"
   ]
  },
  {
   "cell_type": "code",
   "execution_count": 22,
   "metadata": {},
   "outputs": [],
   "source": [
    "infer_instance_type = \"ml.t2.medium\"\n",
    "model_name = job_name\n",
    "endpoint_name = job_name"
   ]
  },
  {
   "cell_type": "code",
   "execution_count": 23,
   "metadata": {},
   "outputs": [
    {
     "name": "stderr",
     "output_type": "stream",
     "text": [
      "INFO:sagemaker:Creating model with name: img-clf-multilabel2023-12-20-12-42-28\n",
      "INFO:sagemaker:Creating endpoint-config with name img-clf-multilabel2023-12-20-12-42-28\n",
      "INFO:sagemaker:Creating endpoint with name img-clf-multilabel2023-12-20-12-42-28\n"
     ]
    },
    {
     "name": "stdout",
     "output_type": "stream",
     "text": [
      "--------------------!"
     ]
    }
   ],
   "source": [
    "clf_predictor = clf_estimator.deploy(\n",
    "    initial_instance_count=1,\n",
    "    instance_type=infer_instance_type,\n",
    "    endpoint_name=endpoint_name,\n",
    "    model_name=model_name,\n",
    ")"
   ]
  },
  {
   "cell_type": "code",
   "execution_count": 24,
   "metadata": {},
   "outputs": [],
   "source": [
    "sgmkr_runt =  boto3.client(\"sagemaker-runtime\", region_name='us-east-1')\n"
   ]
  },
  {
   "cell_type": "code",
   "execution_count": 25,
   "metadata": {},
   "outputs": [
    {
     "name": "stdout",
     "output_type": "stream",
     "text": [
      "[0.0008878662483766675, 5.481954212882556e-05, 0.002953188493847847, 6.155760638648644e-05, 0.18068698048591614, 0.00011905275459866971, 4.637461097445339e-05, 6.802827556384727e-05, 0.0011748867109417915, 0.9865672588348389, 2.0460454834392294e-05, 0.26805317401885986, 0.0003528805682435632, 0.007358838804066181, 0.002235549269244075, 3.920853487215936e-05, 0.0008348595583811402, 0.00547525379806757, 0.9958124756813049, 0.00048548454651609063, 8.116445678751916e-05, 0.001121196779422462, 0.00045517555554397404, 0.0014765721280127764, 0.00025220931274816394, 0.0002324573288206011, 3.046737219847273e-05, 0.00014198978897184134, 0.0008964711450971663, 0.0016279139090329409, 0.996721088886261, 0.00014838941569905728, 0.00011685959907481447, 0.0010491982102394104, 0.000485966942505911, 1.4760559679416474e-05, 6.663609383394942e-05, 0.9927478432655334, 4.381087819638196e-06, 0.00045703156501986086, 3.184110710208188e-06, 0.00010836074943654239, 0.0042686499655246735, 0.004192569758743048, 0.0024690397549420595, 0.00022962753428146243, 0.0002061946870526299, 0.0003174234298057854, 4.3564868974499404e-05, 0.00036894381628371775, 6.664772081421688e-05, 0.0007753618410788476, 0.0002336314064450562, 4.767241625813767e-05, 0.0004663943836931139, 5.234787749941461e-05, 0.00026348113897256553, 0.0007689653430134058, 0.0006981974001973867, 3.0021103157196194e-05, 0.00016293063526973128, 4.860624812863534e-06, 0.0001580565731273964, 4.868546238867566e-05, 0.0006439267308451235, 0.9998080134391785, 0.00012969128147233278, 4.1302377212559804e-05, 0.0010539934737607837, 0.999796450138092, 0.00511931674554944, 0.0016546185361221433, 0.0006390534690581262, 4.097425971849589e-06, 0.00016631543985567987, 5.136618347023614e-05, 0.00010031383135356009, 0.00045943661825731397, 0.000336505618179217, 0.0005575465620495379, 0.003162587294355035, 5.751354910898954e-05, 0.010145796462893486, 0.00016456223966088146, 0.005411835853010416, 0.0002741594216786325, 0.00013906616368331015, 0.0001310165534960106, 0.00015136865840759128, 0.0018777649383991957, 0.0011486487928777933, 0.00039925723103806376, 0.00018965646449942142, 0.00018145961803384125, 0.0001226062886416912, 0.0010564744006842375, 3.603582808864303e-05, 0.003096601227298379, 0.0005554454983212054, 0.00011836599878733978, 0.00012730533489957452, 0.432314932346344, 0.0008061136468313634, 0.00020376262546051294, 0.0007363527547568083, 6.289759767241776e-05, 8.049748430494219e-05, 0.00014818142517469823, 6.760790711268783e-05, 0.0001852557761594653, 0.001419122563675046, 0.000850400363560766, 1.7858452338259667e-05, 0.004336640238761902, 0.0005297379684634507, 0.00022159950458444655, 4.651115523301996e-05, 4.107091808691621e-05, 0.0008665811037644744, 0.003413309110328555, 0.0007104154210537672, 1.7283942725043744e-05, 0.0004377586010377854, 0.00023184421297628433, 0.0025878252927213907, 2.4867855245247483e-05, 3.122911948594265e-05, 0.0010560986120253801, 0.0029581121634691954, 0.008955039083957672, 0.0002827680145855993]\n"
     ]
    }
   ],
   "source": [
    "with open(\"test.jpeg\", \"rb\") as image:\n",
    "        payload = image.read()\n",
    "        payload = bytearray(payload)\n",
    "        \n",
    "# print(payload)        \n",
    "response = sgmkr_runt.invoke_endpoint(\n",
    "    EndpointName = endpoint_name,\n",
    "    ContentType = 'image/jpeg',\n",
    "    # Accept = \"application/json;verbose\",\n",
    "    Body = payload,\n",
    ")\n",
    "\n",
    "prediction = json.loads(response['Body'].read().decode())\n",
    "print(prediction)"
   ]
  },
  {
   "cell_type": "code",
   "execution_count": 29,
   "metadata": {},
   "outputs": [
    {
     "name": "stdout",
     "output_type": "stream",
     "text": [
      "['Square', 'Barber', 'Right', 'Male', 'White', 'Middle']\n",
      "131\n"
     ]
    }
   ],
   "source": [
    "a = [0.0008878662483766675, 5.481954212882556e-05, 0.002953188493847847, 6.155760638648644e-05, 0.18068698048591614, 0.00011905275459866971, 4.637461097445339e-05, 6.802827556384727e-05, 0.0011748867109417915, 0.9865672588348389, 2.0460454834392294e-05, 0.26805317401885986, 0.0003528805682435632, 0.007358838804066181, 0.002235549269244075, 3.920853487215936e-05, 0.0008348595583811402, 0.00547525379806757, 0.9958124756813049, 0.00048548454651609063, 8.116445678751916e-05, 0.001121196779422462, 0.00045517555554397404, 0.0014765721280127764, 0.00025220931274816394, 0.0002324573288206011, 3.046737219847273e-05, 0.00014198978897184134, 0.0008964711450971663, 0.0016279139090329409, 0.996721088886261, 0.00014838941569905728, 0.00011685959907481447, 0.0010491982102394104, 0.000485966942505911, 1.4760559679416474e-05, 6.663609383394942e-05, 0.9927478432655334, 4.381087819638196e-06, 0.00045703156501986086, 3.184110710208188e-06, 0.00010836074943654239, 0.0042686499655246735, 0.004192569758743048, 0.0024690397549420595, 0.00022962753428146243, 0.0002061946870526299, 0.0003174234298057854, 4.3564868974499404e-05, 0.00036894381628371775, 6.664772081421688e-05, 0.0007753618410788476, 0.0002336314064450562, 4.767241625813767e-05, 0.0004663943836931139, 5.234787749941461e-05, 0.00026348113897256553, 0.0007689653430134058, 0.0006981974001973867, 3.0021103157196194e-05, 0.00016293063526973128, 4.860624812863534e-06, 0.0001580565731273964, 4.868546238867566e-05, 0.0006439267308451235, 0.9998080134391785, 0.00012969128147233278, 4.1302377212559804e-05, 0.0010539934737607837, 0.999796450138092, 0.00511931674554944, 0.0016546185361221433, 0.0006390534690581262, 4.097425971849589e-06, 0.00016631543985567987, 5.136618347023614e-05, 0.00010031383135356009, 0.00045943661825731397, 0.000336505618179217, 0.0005575465620495379, 0.003162587294355035, 5.751354910898954e-05, 0.010145796462893486, 0.00016456223966088146, 0.005411835853010416, 0.0002741594216786325, 0.00013906616368331015, 0.0001310165534960106, 0.00015136865840759128, 0.0018777649383991957, 0.0011486487928777933, 0.00039925723103806376, 0.00018965646449942142, 0.00018145961803384125, 0.0001226062886416912, 0.0010564744006842375, 3.603582808864303e-05, 0.003096601227298379, 0.0005554454983212054, 0.00011836599878733978, 0.00012730533489957452, 0.432314932346344, 0.0008061136468313634, 0.00020376262546051294, 0.0007363527547568083, 6.289759767241776e-05, 8.049748430494219e-05, 0.00014818142517469823, 6.760790711268783e-05, 0.0001852557761594653, 0.001419122563675046, 0.000850400363560766, 1.7858452338259667e-05, 0.004336640238761902, 0.0005297379684634507, 0.00022159950458444655, 4.651115523301996e-05, 4.107091808691621e-05, 0.0008665811037644744, 0.003413309110328555, 0.0007104154210537672, 1.7283942725043744e-05, 0.0004377586010377854, 0.00023184421297628433, 0.0025878252927213907, 2.4867855245247483e-05, 3.122911948594265e-05, 0.0010560986120253801, 0.0029581121634691954, 0.008955039083957672, 0.0002827680145855993]\n",
    "b = [\"anesthesia\",\"Upper Body Wax\",\"restorative dentistry\",\"beauty training\",\"Female\",\"Kids\",\"nail services\",\"cosmetic injectables\",\"mens wax\",\"Square\",\"mens colour\",\"Extension services\",\"Old\",\"beauty treatment\",\"portrait photography\",\"grooming\",\"business photography\",\"wispy\",\"Barber\",\"plasma fibrolast\",\"medical services\",\"vitamin injections\",\"wrinkles\",\"microneedling\",\"alternative therapy\",\"wedding services\",\"reflexology\",\"teeth\",\"tatto service\",\"Hair Highlights\",\"Right\",\"body massage\",\"chemical peels\",\"group fitness classes\",\"sugaring\",\"physical therapy\",\"lip treatments\",\"Male\",\"Bohemian Box Braids\",\"piercing services\",\"Locs\",\"body waxing\",\"Landscape\",\"other\",\"dreadlocs\",\"passion twist\",\"Left\",\"cat eye\",\"microblading\",\"none\",\"dermal fillers\",\"sew ins\",\"eyelash services\",\"Gel Nails\",\"lifestyle photography\",\"weight loss services\",\"waxing services\",\"loc services\",\"stretch mark treatment\",\"group services\",\"hair saloons\",\"vajacial\",\"acupunture\",\"Hard Wax\",\"perm\",\"White\",\"energy healing\",\"fitness programs\",\"Braids\",\"Middle\",\"Manicure\",\"cornrows\",\"crystal healing\",\"detoxification services\",\"crochet\",\"eyebrow waxing\",\"Eyebrows\",\"Lower Body Wax\",\"bridal services\",\"Black\",\"Body Contouring\",\"Bridal\",\"Strip Wax\",\"updos\",\"spa\",\"grocery shopping\",\"kids services\",\"bikini wax\",\"hair treatments\",\"wig services\",\"hair styling\",\"artistic services\",\"awakening programs\",\"Dreads\",\"feed ins\",\"makeup services\",\"Eyelash fills\",\"nail polish\",\"facial treatments\",\"beauty services\",\"weaves\",\"Center\",\"Knotless Braids\",\"Brown\",\"cupping therapy\",\"microdermabrasion\",\"personal training\",\"eyebrow services\",\"Pedicure\",\"permanent makeup\",\"skin care services\",\"meditation\",\"iv therepy\",\"Potrait\",\"Eyelash Lift\",\"Acne treatment\",\"yoga and meditation\",\"tanning services\",\"pilates classes\",\"cosmetic dentistry\",\"Box Braids\",\"cooking classes\",\"mens braids\",\"discount services\",\"bohemian twist\",\"barber services\",\"hard\",\"Soft Wax\",\"Facial waxing\",\"light therepy\",\"kinky twist\"]\n",
    "# link a and b\n",
    "threshold = 0.5  # Set your threshold value here\n",
    "\n",
    "# Filter elements from list b based on the threshold in list a\n",
    "filtered_elements = [category for prob, category in zip(a, b) if prob >= threshold]\n",
    "\n",
    "# Print the filtered elements\n",
    "print(filtered_elements)\n",
    "\n",
    "print(len(a))"
   ]
  },
  {
   "cell_type": "code",
   "execution_count": 28,
   "metadata": {},
   "outputs": [
    {
     "name": "stderr",
     "output_type": "stream",
     "text": [
      "INFO:sagemaker:Deleting endpoint configuration with name: img-clf-multilabel2023-12-20-12-42-28\n"
     ]
    },
    {
     "ename": "ClientError",
     "evalue": "An error occurred (ValidationException) when calling the DeleteEndpointConfig operation: Could not find endpoint configuration \"img-clf-multilabel2023-12-20-12-42-28\".",
     "output_type": "error",
     "traceback": [
      "\u001b[0;31m---------------------------------------------------------------------------\u001b[0m",
      "\u001b[0;31mClientError\u001b[0m                               Traceback (most recent call last)",
      "Cell \u001b[0;32mIn[28], line 1\u001b[0m\n\u001b[0;32m----> 1\u001b[0m \u001b[43mclf_predictor\u001b[49m\u001b[38;5;241;43m.\u001b[39;49m\u001b[43mdelete_endpoint\u001b[49m\u001b[43m(\u001b[49m\u001b[43m)\u001b[49m\n",
      "File \u001b[0;32m~/Documents/Coding stuff/Intern__/TASK/Image_tagging/ImageClassification/env/lib/python3.10/site-packages/sagemaker/base_predictor.py:438\u001b[0m, in \u001b[0;36mPredictor.delete_endpoint\u001b[0;34m(self, delete_endpoint_config)\u001b[0m\n\u001b[1;32m    426\u001b[0m \u001b[38;5;250m\u001b[39m\u001b[38;5;124;03m\"\"\"Delete the Amazon SageMaker endpoint backing this predictor.\u001b[39;00m\n\u001b[1;32m    427\u001b[0m \n\u001b[1;32m    428\u001b[0m \u001b[38;5;124;03mThis also delete the endpoint configuration attached to it if\u001b[39;00m\n\u001b[0;32m   (...)\u001b[0m\n\u001b[1;32m    435\u001b[0m \u001b[38;5;124;03m        be deleted. If False, only endpoint will be deleted.\u001b[39;00m\n\u001b[1;32m    436\u001b[0m \u001b[38;5;124;03m\"\"\"\u001b[39;00m\n\u001b[1;32m    437\u001b[0m \u001b[38;5;28;01mif\u001b[39;00m delete_endpoint_config:\n\u001b[0;32m--> 438\u001b[0m     \u001b[38;5;28;43mself\u001b[39;49m\u001b[38;5;241;43m.\u001b[39;49m\u001b[43m_delete_endpoint_config\u001b[49m\u001b[43m(\u001b[49m\u001b[43m)\u001b[49m\n\u001b[1;32m    440\u001b[0m \u001b[38;5;28mself\u001b[39m\u001b[38;5;241m.\u001b[39msagemaker_session\u001b[38;5;241m.\u001b[39mdelete_endpoint(\u001b[38;5;28mself\u001b[39m\u001b[38;5;241m.\u001b[39mendpoint_name)\n",
      "File \u001b[0;32m~/Documents/Coding stuff/Intern__/TASK/Image_tagging/ImageClassification/env/lib/python3.10/site-packages/sagemaker/base_predictor.py:423\u001b[0m, in \u001b[0;36mPredictor._delete_endpoint_config\u001b[0;34m(self)\u001b[0m\n\u001b[1;32m    421\u001b[0m \u001b[38;5;250m\u001b[39m\u001b[38;5;124;03m\"\"\"Delete the Amazon SageMaker endpoint configuration\"\"\"\u001b[39;00m\n\u001b[1;32m    422\u001b[0m current_endpoint_config_name \u001b[38;5;241m=\u001b[39m \u001b[38;5;28mself\u001b[39m\u001b[38;5;241m.\u001b[39m_get_endpoint_config_name()\n\u001b[0;32m--> 423\u001b[0m \u001b[38;5;28;43mself\u001b[39;49m\u001b[38;5;241;43m.\u001b[39;49m\u001b[43msagemaker_session\u001b[49m\u001b[38;5;241;43m.\u001b[39;49m\u001b[43mdelete_endpoint_config\u001b[49m\u001b[43m(\u001b[49m\u001b[43mcurrent_endpoint_config_name\u001b[49m\u001b[43m)\u001b[49m\n",
      "File \u001b[0;32m~/Documents/Coding stuff/Intern__/TASK/Image_tagging/ImageClassification/env/lib/python3.10/site-packages/sagemaker/session.py:4332\u001b[0m, in \u001b[0;36mSession.delete_endpoint_config\u001b[0;34m(self, endpoint_config_name)\u001b[0m\n\u001b[1;32m   4325\u001b[0m \u001b[38;5;250m\u001b[39m\u001b[38;5;124;03m\"\"\"Delete an Amazon SageMaker endpoint configuration.\u001b[39;00m\n\u001b[1;32m   4326\u001b[0m \n\u001b[1;32m   4327\u001b[0m \u001b[38;5;124;03mArgs:\u001b[39;00m\n\u001b[1;32m   4328\u001b[0m \u001b[38;5;124;03m    endpoint_config_name (str): Name of the Amazon SageMaker endpoint configuration to\u001b[39;00m\n\u001b[1;32m   4329\u001b[0m \u001b[38;5;124;03m        delete.\u001b[39;00m\n\u001b[1;32m   4330\u001b[0m \u001b[38;5;124;03m\"\"\"\u001b[39;00m\n\u001b[1;32m   4331\u001b[0m LOGGER\u001b[38;5;241m.\u001b[39minfo(\u001b[38;5;124m\"\u001b[39m\u001b[38;5;124mDeleting endpoint configuration with name: \u001b[39m\u001b[38;5;132;01m%s\u001b[39;00m\u001b[38;5;124m\"\u001b[39m, endpoint_config_name)\n\u001b[0;32m-> 4332\u001b[0m \u001b[38;5;28;43mself\u001b[39;49m\u001b[38;5;241;43m.\u001b[39;49m\u001b[43msagemaker_client\u001b[49m\u001b[38;5;241;43m.\u001b[39;49m\u001b[43mdelete_endpoint_config\u001b[49m\u001b[43m(\u001b[49m\u001b[43mEndpointConfigName\u001b[49m\u001b[38;5;241;43m=\u001b[39;49m\u001b[43mendpoint_config_name\u001b[49m\u001b[43m)\u001b[49m\n",
      "File \u001b[0;32m~/Documents/Coding stuff/Intern__/TASK/Image_tagging/ImageClassification/env/lib/python3.10/site-packages/botocore/client.py:553\u001b[0m, in \u001b[0;36mClientCreator._create_api_method.<locals>._api_call\u001b[0;34m(self, *args, **kwargs)\u001b[0m\n\u001b[1;32m    549\u001b[0m     \u001b[38;5;28;01mraise\u001b[39;00m \u001b[38;5;167;01mTypeError\u001b[39;00m(\n\u001b[1;32m    550\u001b[0m         \u001b[38;5;124mf\u001b[39m\u001b[38;5;124m\"\u001b[39m\u001b[38;5;132;01m{\u001b[39;00mpy_operation_name\u001b[38;5;132;01m}\u001b[39;00m\u001b[38;5;124m() only accepts keyword arguments.\u001b[39m\u001b[38;5;124m\"\u001b[39m\n\u001b[1;32m    551\u001b[0m     )\n\u001b[1;32m    552\u001b[0m \u001b[38;5;66;03m# The \"self\" in this scope is referring to the BaseClient.\u001b[39;00m\n\u001b[0;32m--> 553\u001b[0m \u001b[38;5;28;01mreturn\u001b[39;00m \u001b[38;5;28;43mself\u001b[39;49m\u001b[38;5;241;43m.\u001b[39;49m\u001b[43m_make_api_call\u001b[49m\u001b[43m(\u001b[49m\u001b[43moperation_name\u001b[49m\u001b[43m,\u001b[49m\u001b[43m \u001b[49m\u001b[43mkwargs\u001b[49m\u001b[43m)\u001b[49m\n",
      "File \u001b[0;32m~/Documents/Coding stuff/Intern__/TASK/Image_tagging/ImageClassification/env/lib/python3.10/site-packages/botocore/client.py:1009\u001b[0m, in \u001b[0;36mBaseClient._make_api_call\u001b[0;34m(self, operation_name, api_params)\u001b[0m\n\u001b[1;32m   1005\u001b[0m     error_code \u001b[38;5;241m=\u001b[39m error_info\u001b[38;5;241m.\u001b[39mget(\u001b[38;5;124m\"\u001b[39m\u001b[38;5;124mQueryErrorCode\u001b[39m\u001b[38;5;124m\"\u001b[39m) \u001b[38;5;129;01mor\u001b[39;00m error_info\u001b[38;5;241m.\u001b[39mget(\n\u001b[1;32m   1006\u001b[0m         \u001b[38;5;124m\"\u001b[39m\u001b[38;5;124mCode\u001b[39m\u001b[38;5;124m\"\u001b[39m\n\u001b[1;32m   1007\u001b[0m     )\n\u001b[1;32m   1008\u001b[0m     error_class \u001b[38;5;241m=\u001b[39m \u001b[38;5;28mself\u001b[39m\u001b[38;5;241m.\u001b[39mexceptions\u001b[38;5;241m.\u001b[39mfrom_code(error_code)\n\u001b[0;32m-> 1009\u001b[0m     \u001b[38;5;28;01mraise\u001b[39;00m error_class(parsed_response, operation_name)\n\u001b[1;32m   1010\u001b[0m \u001b[38;5;28;01melse\u001b[39;00m:\n\u001b[1;32m   1011\u001b[0m     \u001b[38;5;28;01mreturn\u001b[39;00m parsed_response\n",
      "\u001b[0;31mClientError\u001b[0m: An error occurred (ValidationException) when calling the DeleteEndpointConfig operation: Could not find endpoint configuration \"img-clf-multilabel2023-12-20-12-42-28\"."
     ]
    }
   ],
   "source": [
    "clf_predictor.delete_endpoint()\n"
   ]
  }
 ],
 "metadata": {
  "kernelspec": {
   "display_name": "env",
   "language": "python",
   "name": "python3"
  },
  "language_info": {
   "codemirror_mode": {
    "name": "ipython",
    "version": 3
   },
   "file_extension": ".py",
   "mimetype": "text/x-python",
   "name": "python",
   "nbconvert_exporter": "python",
   "pygments_lexer": "ipython3",
   "version": "3.10.12"
  }
 },
 "nbformat": 4,
 "nbformat_minor": 2
}
