{
 "cells": [
  {
   "cell_type": "code",
   "execution_count": 23,
   "metadata": {},
   "outputs": [],
   "source": [
    "import os\n",
    "import json\n",
    "import logging\n",
    "from datetime import datetime"
   ]
  },
  {
   "cell_type": "code",
   "execution_count": 24,
   "metadata": {},
   "outputs": [],
   "source": [
    "import boto3\n",
    "import sagemaker\n",
    "from sagemaker import get_execution_role\n",
    "from sagemaker.amazon.amazon_estimator import get_image_uri"
   ]
  },
  {
   "cell_type": "code",
   "execution_count": 25,
   "metadata": {},
   "outputs": [],
   "source": [
    "boto3.set_stream_logger(name=\"botocore.credentials\", level=logging.WARNING)\n"
   ]
  },
  {
   "cell_type": "code",
   "execution_count": null,
   "metadata": {},
   "outputs": [],
   "source": [
    "def check_aws_configuration():\n",
    "    try:\n",
    "        # Attempt to create an AWS S3 client\n",
    "        s3 = boto3.client('s3')\n",
    "        \n",
    "        # List buckets to verify AWS credentials and region\n",
    "        buckets = s3.list_buckets()\n",
    "        \n",
    "        print(\"AWS Configuration is successful.\")\n",
    "        print(\"Available S3 Buckets:\")\n",
    "        for bucket in buckets['Buckets']:\n",
    "            print(f\"- {bucket['Name']}\")\n",
    "        \n",
    "        return True\n",
    "    except Exception as e:\n",
    "        print(f\"Error: {e}\")\n",
    "        print(\"AWS Configuration is not successful.\")\n",
    "        return False\n",
    "\n",
    "# Check AWS configuration\n",
    "check_aws_configuration()"
   ]
  },
  {
   "cell_type": "code",
   "execution_count": 27,
   "metadata": {},
   "outputs": [
    {
     "name": "stdout",
     "output_type": "stream",
     "text": [
      "us-east-1\n"
     ]
    }
   ],
   "source": [
    "# sess = sagemaker.Session()\n",
    "sess = sagemaker.Session(boto_session=boto3.Session(region_name='us-east-1'))\n",
    "region = sess.boto_region_name\n",
    "print(region)"
   ]
  },
  {
   "cell_type": "code",
   "execution_count": 28,
   "metadata": {},
   "outputs": [],
   "source": [
    "role_arn = \"arn:aws:iam::173829655778:role/sage_make_full_access\""
   ]
  },
  {
   "cell_type": "code",
   "execution_count": 29,
   "metadata": {},
   "outputs": [],
   "source": [
    "bucket_name = \"imagetaggingdemo\"\n",
    "data_path = \"img_clf_multilabel_lst\"\n",
    "\n",
    "nclasses = 3\n",
    "nimgs_train = 11\n",
    "nepochs = 10\n",
    "mini_batch_size = 3\n",
    "\n",
    "train_instance_type = \"ml.g4dn.xlarge\"\n",
    "job_name_prefix = \"img-clf-multilabel\""
   ]
  },
  {
   "cell_type": "code",
   "execution_count": 30,
   "metadata": {},
   "outputs": [
    {
     "name": "stderr",
     "output_type": "stream",
     "text": [
      "WARNING:sagemaker.image_uris:Defaulting to the only supported framework/algorithm version: 1. Ignoring framework/algorithm version: latest.\n",
      "INFO:sagemaker.image_uris:Ignoring unnecessary instance type: None.\n"
     ]
    },
    {
     "name": "stdout",
     "output_type": "stream",
     "text": [
      "811284229777.dkr.ecr.us-east-1.amazonaws.com/image-classification:1\n"
     ]
    }
   ],
   "source": [
    "train_image_uri = sagemaker.image_uris.retrieve(\n",
    "    framework=\"image-classification\",\n",
    "    region=region,\n",
    "    image_scope=\"training\",\n",
    "    version=\"latest\",\n",
    ")\n",
    "print(train_image_uri)"
   ]
  },
  {
   "cell_type": "code",
   "execution_count": 31,
   "metadata": {},
   "outputs": [],
   "source": [
    "s3_output_path = \"s3://{}/{}/{}\".format(bucket_name, data_path, \"model_output\")\n"
   ]
  },
  {
   "cell_type": "code",
   "execution_count": 32,
   "metadata": {},
   "outputs": [],
   "source": [
    "clf_estimator = sagemaker.estimator.Estimator(\n",
    "    image_uri=train_image_uri,\n",
    "    role=role_arn,\n",
    "    instance_count=1,\n",
    "    instance_type=train_instance_type,\n",
    "    volume_size=50,\n",
    "    max_run=360000,\n",
    "    input_mode=\"File\",\n",
    "    output_path=s3_output_path,\n",
    "    sagemaker_session=sess,\n",
    ")"
   ]
  },
  {
   "cell_type": "code",
   "execution_count": 34,
   "metadata": {},
   "outputs": [],
   "source": [
    "clf_estimator.set_hyperparameters(\n",
    "    num_classes=nclasses,  # update this\n",
    "    epochs=nepochs,  # update this\n",
    "    num_training_samples=nimgs_train,  # update this\n",
    "    mini_batch_size=mini_batch_size,  # update this\n",
    "    num_layers=18,\n",
    "    use_pretrained_model=1,\n",
    "    image_shape=\"3,224,224\",\n",
    "    resize=256,\n",
    "    learning_rate=0.001,\n",
    "    use_weighted_loss=1,\n",
    "    augmentation_type=\"crop_color_transform\",\n",
    "    precision_dtype=\"float32\",\n",
    "    multi_label=0,\n",
    ")"
   ]
  },
  {
   "cell_type": "code",
   "execution_count": 35,
   "metadata": {},
   "outputs": [],
   "source": [
    "s3_train_imgs = \"s3://{}/{}/{}\".format(bucket_name, data_path, \"train_imgs\")\n",
    "s3_valid_imgs = \"s3://{}/{}/{}\".format(bucket_name, data_path, \"valid_imgs\")\n",
    "s3_train_annot = \"s3://{}/{}/{}\".format(bucket_name, data_path, \"train_annots\")\n",
    "s3_valid_annot = \"s3://{}/{}/{}\".format(bucket_name, data_path, \"valid_annots\")\n",
    "\n",
    "train_imgs = sagemaker.inputs.TrainingInput(\n",
    "    s3_train_imgs,\n",
    "    distribution=\"FullyReplicated\",\n",
    "    content_type=\"application/jpeg\",\n",
    "    s3_data_type=\"S3Prefix\",\n",
    ")\n",
    "valid_imgs = sagemaker.inputs.TrainingInput(\n",
    "    s3_valid_imgs,\n",
    "    distribution=\"FullyReplicated\",\n",
    "    content_type=\"application/jpeg\",\n",
    "    s3_data_type=\"S3Prefix\",\n",
    ")\n",
    "train_annot = sagemaker.inputs.TrainingInput(\n",
    "    s3_train_annot,\n",
    "    distribution=\"FullyReplicated\",\n",
    "    content_type=\"application/jpeg\",\n",
    "    s3_data_type=\"S3Prefix\",\n",
    ")\n",
    "valid_annot = sagemaker.inputs.TrainingInput(\n",
    "    s3_valid_annot,\n",
    "    distribution=\"FullyReplicated\",\n",
    "    content_type=\"application/jpeg\",\n",
    "    s3_data_type=\"S3Prefix\",\n",
    ")\n",
    "\n",
    "data_channels = {\n",
    "    \"train\": train_imgs,\n",
    "    \"validation\": valid_imgs,\n",
    "    \"train_lst\": train_annot,\n",
    "    \"validation_lst\": valid_annot,\n",
    "}"
   ]
  },
  {
   "cell_type": "code",
   "execution_count": 36,
   "metadata": {},
   "outputs": [
    {
     "name": "stdout",
     "output_type": "stream",
     "text": [
      "img-clf-multilabel2023-12-15-15-55-16\n"
     ]
    }
   ],
   "source": [
    "timestamp = (\n",
    "    str(datetime.now().replace(microsecond=0)).replace(\" \", \"-\").replace(\":\", \"-\")\n",
    ")\n",
    "job_name = job_name_prefix + timestamp\n",
    "print(job_name)"
   ]
  },
  {
   "cell_type": "code",
   "execution_count": 37,
   "metadata": {},
   "outputs": [
    {
     "name": "stderr",
     "output_type": "stream",
     "text": [
      "INFO:sagemaker:Creating training-job with name: img-clf-multilabel2023-12-15-15-55-16\n"
     ]
    },
    {
     "name": "stdout",
     "output_type": "stream",
     "text": [
      "2023-12-15 10:25:25 Starting - Starting the training job...\n",
      "2023-12-15 10:25:41 Starting - Preparing the instances for training......\n",
      "2023-12-15 10:27:22 Downloading - Downloading the training image..................\n",
      "2023-12-15 10:31:39 Training - Training image download completed. Training in progress.Docker entrypoint called with argument(s): train\n",
      "Running default environment configuration script\n",
      "Nvidia gpu devices, drivers and cuda toolkit versions (only available on hosts with GPU):\n",
      "Fri Dec 15 10:31:52 2023       \n",
      "+---------------------------------------------------------------------------------------+\n",
      "| NVIDIA-SMI 535.104.12             Driver Version: 535.104.12   CUDA Version: 12.2     |\n",
      "|-----------------------------------------+----------------------+----------------------+\n",
      "| GPU  Name                 Persistence-M | Bus-Id        Disp.A | Volatile Uncorr. ECC |\n",
      "| Fan  Temp   Perf          Pwr:Usage/Cap |         Memory-Usage | GPU-Util  Compute M. |\n",
      "|                                         |                      |               MIG M. |\n",
      "|=========================================+======================+======================|\n",
      "|   0  Tesla T4                       On  | 00000000:00:1E.0 Off |                    0 |\n",
      "| N/A   21C    P8               9W /  70W |      2MiB / 15360MiB |      0%      Default |\n",
      "|                                         |                      |                  N/A |\n",
      "+-----------------------------------------+----------------------+----------------------+\n",
      "                                                                                         \n",
      "+---------------------------------------------------------------------------------------+\n",
      "| Processes:                                                                            |\n",
      "|  GPU   GI   CI        PID   Type   Process name                            GPU Memory |\n",
      "|        ID   ID                                                             Usage      |\n",
      "|=======================================================================================|\n",
      "|  No running processes found                                                           |\n",
      "+---------------------------------------------------------------------------------------+\n",
      "Checking for nvidia driver and cuda compatibility.\n",
      "CUDA Compatibility driver provided.\n",
      "Proceeding with compatibility check between driver, cuda-toolkit and cuda-compat.\n",
      "Detected cuda-toolkit version: 11.1.\n",
      "Detected cuda-compat version: 455.32.00.\n",
      "Detected Nvidia driver version: 535.104.12.\n",
      "Nvidia driver compatible with cuda-toolkit. Disabling cuda-compat.\n",
      "/opt/amazon/lib/python3.8/site-packages/mxnet/model.py:97: SyntaxWarning: \"is\" with a literal. Did you mean \"==\"?\n",
      "  if num_device is 1 and 'dist' not in kvstore:\n",
      "[12/15/2023 10:31:55 INFO 140505598859072] Reading default configuration from /opt/amazon/lib/python3.8/site-packages/image_classification/default-input.json: {'use_pretrained_model': 0, 'num_layers': 152, 'epochs': 30, 'learning_rate': 0.1, 'lr_scheduler_factor': 0.1, 'optimizer': 'sgd', 'momentum': 0, 'weight_decay': 0.0001, 'beta_1': 0.9, 'beta_2': 0.999, 'eps': 1e-08, 'gamma': 0.9, 'mini_batch_size': 32, 'image_shape': '3,224,224', 'precision_dtype': 'float32'}\n",
      "[12/15/2023 10:31:55 INFO 140505598859072] Merging with provided configuration from /opt/ml/input/config/hyperparameters.json: {'augmentation_type': 'crop_color_transform', 'epochs': '10', 'image_shape': '3,224,224', 'learning_rate': '0.001', 'mini_batch_size': '3', 'multi_label': '0', 'num_classes': '3', 'num_layers': '18', 'num_training_samples': '11', 'precision_dtype': 'float32', 'resize': '256', 'use_pretrained_model': '1', 'use_weighted_loss': '1'}\n",
      "[12/15/2023 10:31:55 INFO 140505598859072] Final configuration: {'use_pretrained_model': '1', 'num_layers': '18', 'epochs': '10', 'learning_rate': '0.001', 'lr_scheduler_factor': 0.1, 'optimizer': 'sgd', 'momentum': 0, 'weight_decay': 0.0001, 'beta_1': 0.9, 'beta_2': 0.999, 'eps': 1e-08, 'gamma': 0.9, 'mini_batch_size': '3', 'image_shape': '3,224,224', 'precision_dtype': 'float32', 'augmentation_type': 'crop_color_transform', 'multi_label': '0', 'num_classes': '3', 'num_training_samples': '11', 'resize': '256', 'use_weighted_loss': '1'}\n",
      "[12/15/2023 10:31:55 WARNING 140505598859072] use_weighted_loss is only used for multi-label training. Ignoring the parameter.\n",
      "[12/15/2023 10:31:55 INFO 140505598859072] Searching for .lst files in /opt/ml/input/data/train_lst.\n",
      "[12/15/2023 10:31:55 INFO 140505598859072] Creating record files for train.lst\n",
      "[12/15/2023 10:31:55 INFO 140505598859072] Done creating record files...\n",
      "[12/15/2023 10:31:55 INFO 140505598859072] Searching for .lst files in /opt/ml/input/data/validation_lst.\n",
      "[12/15/2023 10:31:55 INFO 140505598859072] Creating record files for valid.lst\n",
      "[12/15/2023 10:31:55 INFO 140505598859072] Done creating record files...\n",
      "[12/15/2023 10:31:55 INFO 140505598859072] use_pretrained_model: 1\n",
      "[12/15/2023 10:31:55 INFO 140505598859072] multi_label: 0\n",
      "[12/15/2023 10:31:55 INFO 140505598859072] Using pretrained model for initializing weights and transfer learning.\n",
      "[12/15/2023 10:31:55 INFO 140505598859072] ---- Parameters ----\n",
      "[12/15/2023 10:31:55 INFO 140505598859072] num_layers: 18\n",
      "[12/15/2023 10:31:55 INFO 140505598859072] data type: <class 'numpy.float32'>\n",
      "[12/15/2023 10:31:55 INFO 140505598859072] epochs: 10\n",
      "[12/15/2023 10:31:55 INFO 140505598859072] image resize size: 256\n",
      "[12/15/2023 10:31:55 INFO 140505598859072] optimizer: sgd\n",
      "[12/15/2023 10:31:55 INFO 140505598859072] momentum: 0.9\n",
      "[12/15/2023 10:31:55 INFO 140505598859072] weight_decay: 0.0001\n",
      "[12/15/2023 10:31:55 INFO 140505598859072] learning_rate: 0.001\n",
      "[12/15/2023 10:31:55 INFO 140505598859072] num_training_samples: 11\n",
      "[12/15/2023 10:31:55 INFO 140505598859072] mini_batch_size: 3\n",
      "[12/15/2023 10:31:55 INFO 140505598859072] image_shape: 3,224,224\n",
      "[12/15/2023 10:31:55 INFO 140505598859072] num_classes: 3\n",
      "[12/15/2023 10:31:55 INFO 140505598859072] augmentation_type: crop_color_transform\n",
      "[12/15/2023 10:31:55 INFO 140505598859072] kv_store: device\n",
      "[12/15/2023 10:31:55 INFO 140505598859072] checkpoint_frequency not set, will store the best model\n",
      "[12/15/2023 10:31:55 INFO 140505598859072] --------------------\n",
      "[10:31:55] /opt/brazil-pkg-cache/packages/AIAlgorithmsMXNet/AIAlgorithmsMXNet-1.4.x_ecl_Cuda_11.1.x.335.0/AL2_x86_64/generic-flavor/src/src/nnvm/legacy_json_util.cc:209: Loading symbol saved by previous version v0.8.0. Attempting to upgrade...\n",
      "[10:31:55] /opt/brazil-pkg-cache/packages/AIAlgorithmsMXNet/AIAlgorithmsMXNet-1.4.x_ecl_Cuda_11.1.x.335.0/AL2_x86_64/generic-flavor/src/src/nnvm/legacy_json_util.cc:217: Symbol successfully upgraded!\n",
      "/opt/amazon/python3.8/lib/python3.8/subprocess.py:848: RuntimeWarning: line buffering (buffering=1) isn't supported in binary mode, the default buffer size will be used\n",
      "  self.stdout = io.open(c2pread, 'rb', bufsize)\n",
      "[12/15/2023 10:31:55 INFO 140505598859072] Setting number of threads: 3\n",
      "[10:31:59] /opt/brazil-pkg-cache/packages/AIAlgorithmsMXNet/AIAlgorithmsMXNet-1.4.x_ecl_Cuda_11.1.x.335.0/AL2_x86_64/generic-flavor/src/src/operator/nn/./cudnn/./cudnn_algoreg-inl.h:97: Running performance tests to find the best convolution algorithm, this can take a while... (setting env variable MXNET_CUDNN_AUTOTUNE_DEFAULT to 0 to disable)\n",
      "[12/15/2023 10:32:00 INFO 140505598859072] Epoch[0] Train-accuracy=0.666667\n",
      "[12/15/2023 10:32:00 INFO 140505598859072] Epoch[0] Time cost=0.475\n",
      "[12/15/2023 10:32:00 INFO 140505598859072] Epoch[0] Validation-accuracy=0.333333\n",
      "[12/15/2023 10:32:00 INFO 140505598859072] Storing the best model with validation accuracy: 0.333333\n",
      "[12/15/2023 10:32:00 INFO 140505598859072] Saved checkpoint to \"/opt/ml/model/image-classification-0001.params\"\n",
      "[12/15/2023 10:32:00 INFO 140505598859072] Epoch[1] Train-accuracy=0.777778\n",
      "[12/15/2023 10:32:00 INFO 140505598859072] Epoch[1] Time cost=0.087\n",
      "[12/15/2023 10:32:00 INFO 140505598859072] Epoch[1] Validation-accuracy=0.666667\n",
      "[12/15/2023 10:32:00 INFO 140505598859072] Storing the best model with validation accuracy: 0.666667\n",
      "[12/15/2023 10:32:00 INFO 140505598859072] Saved checkpoint to \"/opt/ml/model/image-classification-0002.params\"\n",
      "[12/15/2023 10:32:00 INFO 140505598859072] Epoch[2] Train-accuracy=1.000000\n",
      "[12/15/2023 10:32:00 INFO 140505598859072] Epoch[2] Time cost=0.065\n",
      "[12/15/2023 10:32:00 INFO 140505598859072] Epoch[2] Validation-accuracy=0.833333\n",
      "[12/15/2023 10:32:00 INFO 140505598859072] Storing the best model with validation accuracy: 0.833333\n",
      "[12/15/2023 10:32:00 INFO 140505598859072] Saved checkpoint to \"/opt/ml/model/image-classification-0003.params\"\n",
      "[12/15/2023 10:32:01 INFO 140505598859072] Epoch[3] Train-accuracy=1.000000\n",
      "[12/15/2023 10:32:01 INFO 140505598859072] Epoch[3] Time cost=0.085\n",
      "[12/15/2023 10:32:01 INFO 140505598859072] Epoch[3] Validation-accuracy=0.666667\n",
      "[12/15/2023 10:32:01 INFO 140505598859072] Epoch[4] Train-accuracy=1.000000\n",
      "[12/15/2023 10:32:01 INFO 140505598859072] Epoch[4] Time cost=0.064\n",
      "[12/15/2023 10:32:01 INFO 140505598859072] Epoch[4] Validation-accuracy=0.666667\n",
      "[12/15/2023 10:32:01 INFO 140505598859072] Epoch[5] Train-accuracy=1.000000\n",
      "[12/15/2023 10:32:01 INFO 140505598859072] Epoch[5] Time cost=0.106\n",
      "[12/15/2023 10:32:01 INFO 140505598859072] Epoch[5] Validation-accuracy=0.833333\n",
      "[12/15/2023 10:32:01 INFO 140505598859072] Epoch[6] Train-accuracy=1.000000\n",
      "[12/15/2023 10:32:01 INFO 140505598859072] Epoch[6] Time cost=0.073\n",
      "[12/15/2023 10:32:01 INFO 140505598859072] Epoch[6] Validation-accuracy=1.000000\n",
      "[12/15/2023 10:32:02 INFO 140505598859072] Storing the best model with validation accuracy: 1.000000\n",
      "[12/15/2023 10:32:02 INFO 140505598859072] Saved checkpoint to \"/opt/ml/model/image-classification-0007.params\"\n",
      "[12/15/2023 10:32:02 INFO 140505598859072] Epoch[7] Train-accuracy=1.000000\n",
      "[12/15/2023 10:32:02 INFO 140505598859072] Epoch[7] Time cost=0.094\n",
      "[12/15/2023 10:32:02 INFO 140505598859072] Epoch[7] Validation-accuracy=1.000000\n",
      "[12/15/2023 10:32:02 INFO 140505598859072] Epoch[8] Train-accuracy=1.000000\n",
      "[12/15/2023 10:32:02 INFO 140505598859072] Epoch[8] Time cost=0.065\n",
      "[12/15/2023 10:32:02 INFO 140505598859072] Epoch[8] Validation-accuracy=0.833333\n",
      "[12/15/2023 10:32:02 INFO 140505598859072] Epoch[9] Train-accuracy=1.000000\n",
      "[12/15/2023 10:32:02 INFO 140505598859072] Epoch[9] Time cost=0.093\n",
      "[12/15/2023 10:32:02 INFO 140505598859072] Epoch[9] Validation-accuracy=0.666667\n",
      "\n",
      "2023-12-15 10:32:20 Uploading - Uploading generated training model\n",
      "2023-12-15 10:32:20 Completed - Training job completed\n",
      "Training seconds: 323\n",
      "Billable seconds: 323\n"
     ]
    }
   ],
   "source": [
    "clf_estimator.fit(inputs=data_channels, logs=True, job_name=job_name)\n"
   ]
  },
  {
   "cell_type": "code",
   "execution_count": 38,
   "metadata": {},
   "outputs": [],
   "source": [
    "infer_instance_type = \"ml.t2.medium\"\n",
    "model_name = job_name\n",
    "endpoint_name = job_name"
   ]
  },
  {
   "cell_type": "code",
   "execution_count": 39,
   "metadata": {},
   "outputs": [
    {
     "name": "stderr",
     "output_type": "stream",
     "text": [
      "INFO:sagemaker:Creating model with name: img-clf-multilabel2023-12-15-15-55-16\n",
      "INFO:sagemaker:Creating endpoint-config with name img-clf-multilabel2023-12-15-15-55-16\n",
      "INFO:sagemaker:Creating endpoint with name img-clf-multilabel2023-12-15-15-55-16\n"
     ]
    },
    {
     "name": "stdout",
     "output_type": "stream",
     "text": [
      "---------------------!"
     ]
    }
   ],
   "source": [
    "clf_predictor = clf_estimator.deploy(\n",
    "    initial_instance_count=1,\n",
    "    instance_type=infer_instance_type,\n",
    "    endpoint_name=endpoint_name,\n",
    "    model_name=model_name,\n",
    ")"
   ]
  },
  {
   "cell_type": "code",
   "execution_count": 41,
   "metadata": {},
   "outputs": [],
   "source": [
    "sgmkr_runt =  boto3.client(\"sagemaker-runtime\", region_name='us-east-1')\n"
   ]
  },
  {
   "cell_type": "code",
   "execution_count": 51,
   "metadata": {},
   "outputs": [
    {
     "name": "stdout",
     "output_type": "stream",
     "text": [
      "[0.3089269995689392, 0.6767949461936951, 0.014278070069849491]\n"
     ]
    }
   ],
   "source": [
    "with open(\"test.jpeg\", \"rb\") as image:\n",
    "        payload = image.read()\n",
    "        payload = bytearray(payload)\n",
    "        \n",
    "# print(payload)        \n",
    "response = sgmkr_runt.invoke_endpoint(\n",
    "    EndpointName = endpoint_name,\n",
    "    ContentType = 'image/jpeg',\n",
    "    # Accept = \"application/json;verbose\",\n",
    "    Body = payload,\n",
    ")\n",
    "\n",
    "prediction = json.loads(response['Body'].read().decode())\n",
    "print(prediction)"
   ]
  },
  {
   "cell_type": "code",
   "execution_count": 52,
   "metadata": {},
   "outputs": [
    {
     "name": "stderr",
     "output_type": "stream",
     "text": [
      "INFO:sagemaker:Deleting endpoint configuration with name: img-clf-multilabel2023-12-15-15-55-16\n",
      "INFO:sagemaker:Deleting endpoint with name: img-clf-multilabel2023-12-15-15-55-16\n"
     ]
    }
   ],
   "source": [
    "clf_predictor.delete_endpoint()\n"
   ]
  }
 ],
 "metadata": {
  "kernelspec": {
   "display_name": "env",
   "language": "python",
   "name": "python3"
  },
  "language_info": {
   "codemirror_mode": {
    "name": "ipython",
    "version": 3
   },
   "file_extension": ".py",
   "mimetype": "text/x-python",
   "name": "python",
   "nbconvert_exporter": "python",
   "pygments_lexer": "ipython3",
   "version": "3.10.12"
  }
 },
 "nbformat": 4,
 "nbformat_minor": 2
}
