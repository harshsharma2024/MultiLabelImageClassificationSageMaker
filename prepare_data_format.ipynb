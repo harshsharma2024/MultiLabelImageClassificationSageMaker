{
 "cells": [
  {
   "cell_type": "code",
   "execution_count": 67,
   "metadata": {},
   "outputs": [],
   "source": [
    "import os\n",
    "import json\n",
    "import random\n",
    "import pandas as pd\n",
    "import shutil"
   ]
  },
  {
   "cell_type": "code",
   "execution_count": 68,
   "metadata": {},
   "outputs": [],
   "source": [
    "!mkdir prepare_data/img_clf_multilabel_lst/train_imgs\n",
    "!mkdir prepare_data/img_clf_multilabel_lst/valid_imgs\n",
    "!mkdir prepare_data/img_clf_multilabel_lst/train_annots\n",
    "!mkdir prepare_data/img_clf_multilabel_lst/valid_annots"
   ]
  },
  {
   "cell_type": "code",
   "execution_count": 69,
   "metadata": {},
   "outputs": [
    {
     "data": {
      "text/html": [
       "<div>\n",
       "<style scoped>\n",
       "    .dataframe tbody tr th:only-of-type {\n",
       "        vertical-align: middle;\n",
       "    }\n",
       "\n",
       "    .dataframe tbody tr th {\n",
       "        vertical-align: top;\n",
       "    }\n",
       "\n",
       "    .dataframe thead th {\n",
       "        text-align: right;\n",
       "    }\n",
       "</style>\n",
       "<table border=\"1\" class=\"dataframe\">\n",
       "  <thead>\n",
       "    <tr style=\"text-align: right;\">\n",
       "      <th></th>\n",
       "      <th>image</th>\n",
       "      <th>class</th>\n",
       "    </tr>\n",
       "  </thead>\n",
       "  <tbody>\n",
       "    <tr>\n",
       "      <th>0</th>\n",
       "      <td>1.jpg</td>\n",
       "      <td>[human,hair,interior]</td>\n",
       "    </tr>\n",
       "    <tr>\n",
       "      <th>1</th>\n",
       "      <td>2.jpg</td>\n",
       "      <td>[human,interior]</td>\n",
       "    </tr>\n",
       "    <tr>\n",
       "      <th>2</th>\n",
       "      <td>3.jpg</td>\n",
       "      <td>[interior]</td>\n",
       "    </tr>\n",
       "    <tr>\n",
       "      <th>3</th>\n",
       "      <td>4.jpg</td>\n",
       "      <td>[human,hair,interior]</td>\n",
       "    </tr>\n",
       "    <tr>\n",
       "      <th>4</th>\n",
       "      <td>5.jpg</td>\n",
       "      <td>[human,interior]</td>\n",
       "    </tr>\n",
       "  </tbody>\n",
       "</table>\n",
       "</div>"
      ],
      "text/plain": [
       "   image                  class\n",
       "0  1.jpg  [human,hair,interior]\n",
       "1  2.jpg       [human,interior]\n",
       "2  3.jpg             [interior]\n",
       "3  4.jpg  [human,hair,interior]\n",
       "4  5.jpg       [human,interior]"
      ]
     },
     "execution_count": 69,
     "metadata": {},
     "output_type": "execute_result"
    }
   ],
   "source": [
    "gt_df = pd.read_csv(\n",
    "    \"prepare_data/img_clf_multilabel_lst/all_images_gt/clf_labels.csv\", header=None\n",
    ")\n",
    "gt_df.columns = [\"image\", \"class\"]\n",
    "gt_df.head()"
   ]
  },
  {
   "cell_type": "code",
   "execution_count": 70,
   "metadata": {},
   "outputs": [
    {
     "name": "stdout",
     "output_type": "stream",
     "text": [
      "11 7 4\n"
     ]
    }
   ],
   "source": [
    "train_valid_split = 0.7\n",
    "nimages = gt_df[\"image\"].nunique()\n",
    "ntrain = int(train_valid_split * nimages)\n",
    "nvalid = nimages - ntrain\n",
    "print(nimages, ntrain, nvalid)"
   ]
  },
  {
   "cell_type": "code",
   "execution_count": 71,
   "metadata": {},
   "outputs": [
    {
     "data": {
      "text/html": [
       "<div>\n",
       "<style scoped>\n",
       "    .dataframe tbody tr th:only-of-type {\n",
       "        vertical-align: middle;\n",
       "    }\n",
       "\n",
       "    .dataframe tbody tr th {\n",
       "        vertical-align: top;\n",
       "    }\n",
       "\n",
       "    .dataframe thead th {\n",
       "        text-align: right;\n",
       "    }\n",
       "</style>\n",
       "<table border=\"1\" class=\"dataframe\">\n",
       "  <thead>\n",
       "    <tr style=\"text-align: right;\">\n",
       "      <th></th>\n",
       "      <th>image</th>\n",
       "      <th>class</th>\n",
       "    </tr>\n",
       "  </thead>\n",
       "  <tbody>\n",
       "    <tr>\n",
       "      <th>0</th>\n",
       "      <td>1.jpg</td>\n",
       "      <td>human,hair,interior</td>\n",
       "    </tr>\n",
       "    <tr>\n",
       "      <th>1</th>\n",
       "      <td>2.jpg</td>\n",
       "      <td>human,interior</td>\n",
       "    </tr>\n",
       "    <tr>\n",
       "      <th>2</th>\n",
       "      <td>3.jpg</td>\n",
       "      <td>interior</td>\n",
       "    </tr>\n",
       "    <tr>\n",
       "      <th>3</th>\n",
       "      <td>4.jpg</td>\n",
       "      <td>human,hair,interior</td>\n",
       "    </tr>\n",
       "    <tr>\n",
       "      <th>4</th>\n",
       "      <td>5.jpg</td>\n",
       "      <td>human,interior</td>\n",
       "    </tr>\n",
       "  </tbody>\n",
       "</table>\n",
       "</div>"
      ],
      "text/plain": [
       "   image                class\n",
       "0  1.jpg  human,hair,interior\n",
       "1  2.jpg       human,interior\n",
       "2  3.jpg             interior\n",
       "3  4.jpg  human,hair,interior\n",
       "4  5.jpg       human,interior"
      ]
     },
     "execution_count": 71,
     "metadata": {},
     "output_type": "execute_result"
    }
   ],
   "source": [
    "gt_df[\"class\"] = gt_df[\"class\"].apply(lambda x: x[1:-1])\n",
    "gt_df.head()"
   ]
  },
  {
   "cell_type": "code",
   "execution_count": 72,
   "metadata": {},
   "outputs": [
    {
     "data": {
      "text/plain": [
       "{'human': 0, 'hair': 1, 'interior': 2}"
      ]
     },
     "execution_count": 72,
     "metadata": {},
     "output_type": "execute_result"
    }
   ],
   "source": [
    "labels = [\"human\", \"hair\", \"interior\"]\n",
    "labels_map = {k: v for v, k in enumerate(labels)}\n",
    "with open(\"prepare_data/img_clf_multilabel_lst/labels_map.json\", \"w\") as fp:\n",
    "    json.dump(labels_map, fp)\n",
    "labels_map"
   ]
  },
  {
   "cell_type": "code",
   "execution_count": 73,
   "metadata": {},
   "outputs": [],
   "source": [
    "def function(x):\n",
    "    xl = x.split(\",\")\n",
    "    xll = []\n",
    "    for lbl in labels:\n",
    "        if lbl in xl:\n",
    "            xll.append(1)\n",
    "        else:\n",
    "            xll.append(0)\n",
    "    return xll"
   ]
  },
  {
   "cell_type": "code",
   "execution_count": 74,
   "metadata": {},
   "outputs": [
    {
     "data": {
      "text/html": [
       "<div>\n",
       "<style scoped>\n",
       "    .dataframe tbody tr th:only-of-type {\n",
       "        vertical-align: middle;\n",
       "    }\n",
       "\n",
       "    .dataframe tbody tr th {\n",
       "        vertical-align: top;\n",
       "    }\n",
       "\n",
       "    .dataframe thead th {\n",
       "        text-align: right;\n",
       "    }\n",
       "</style>\n",
       "<table border=\"1\" class=\"dataframe\">\n",
       "  <thead>\n",
       "    <tr style=\"text-align: right;\">\n",
       "      <th></th>\n",
       "      <th>image</th>\n",
       "      <th>class</th>\n",
       "      <th>class2</th>\n",
       "    </tr>\n",
       "  </thead>\n",
       "  <tbody>\n",
       "    <tr>\n",
       "      <th>0</th>\n",
       "      <td>1.jpg</td>\n",
       "      <td>human,hair,interior</td>\n",
       "      <td>[1, 1, 1]</td>\n",
       "    </tr>\n",
       "    <tr>\n",
       "      <th>1</th>\n",
       "      <td>2.jpg</td>\n",
       "      <td>human,interior</td>\n",
       "      <td>[1, 0, 1]</td>\n",
       "    </tr>\n",
       "    <tr>\n",
       "      <th>2</th>\n",
       "      <td>3.jpg</td>\n",
       "      <td>interior</td>\n",
       "      <td>[0, 0, 1]</td>\n",
       "    </tr>\n",
       "    <tr>\n",
       "      <th>3</th>\n",
       "      <td>4.jpg</td>\n",
       "      <td>human,hair,interior</td>\n",
       "      <td>[1, 1, 1]</td>\n",
       "    </tr>\n",
       "    <tr>\n",
       "      <th>4</th>\n",
       "      <td>5.jpg</td>\n",
       "      <td>human,interior</td>\n",
       "      <td>[1, 0, 1]</td>\n",
       "    </tr>\n",
       "  </tbody>\n",
       "</table>\n",
       "</div>"
      ],
      "text/plain": [
       "   image                class     class2\n",
       "0  1.jpg  human,hair,interior  [1, 1, 1]\n",
       "1  2.jpg       human,interior  [1, 0, 1]\n",
       "2  3.jpg             interior  [0, 0, 1]\n",
       "3  4.jpg  human,hair,interior  [1, 1, 1]\n",
       "4  5.jpg       human,interior  [1, 0, 1]"
      ]
     },
     "execution_count": 74,
     "metadata": {},
     "output_type": "execute_result"
    }
   ],
   "source": [
    "gt_df[\"class2\"] = gt_df[\"class\"].apply(function)\n",
    "gt_df.head()"
   ]
  },
  {
   "cell_type": "code",
   "execution_count": 75,
   "metadata": {},
   "outputs": [
    {
     "data": {
      "text/html": [
       "<div>\n",
       "<style scoped>\n",
       "    .dataframe tbody tr th:only-of-type {\n",
       "        vertical-align: middle;\n",
       "    }\n",
       "\n",
       "    .dataframe tbody tr th {\n",
       "        vertical-align: top;\n",
       "    }\n",
       "\n",
       "    .dataframe thead th {\n",
       "        text-align: right;\n",
       "    }\n",
       "</style>\n",
       "<table border=\"1\" class=\"dataframe\">\n",
       "  <thead>\n",
       "    <tr style=\"text-align: right;\">\n",
       "      <th></th>\n",
       "      <th>image</th>\n",
       "      <th>class</th>\n",
       "      <th>class2</th>\n",
       "      <th>human</th>\n",
       "      <th>hair</th>\n",
       "      <th>interior</th>\n",
       "    </tr>\n",
       "  </thead>\n",
       "  <tbody>\n",
       "    <tr>\n",
       "      <th>0</th>\n",
       "      <td>1.jpg</td>\n",
       "      <td>human,hair,interior</td>\n",
       "      <td>[1, 1, 1]</td>\n",
       "      <td>1</td>\n",
       "      <td>1</td>\n",
       "      <td>1</td>\n",
       "    </tr>\n",
       "    <tr>\n",
       "      <th>1</th>\n",
       "      <td>2.jpg</td>\n",
       "      <td>human,interior</td>\n",
       "      <td>[1, 0, 1]</td>\n",
       "      <td>1</td>\n",
       "      <td>0</td>\n",
       "      <td>1</td>\n",
       "    </tr>\n",
       "    <tr>\n",
       "      <th>2</th>\n",
       "      <td>3.jpg</td>\n",
       "      <td>interior</td>\n",
       "      <td>[0, 0, 1]</td>\n",
       "      <td>0</td>\n",
       "      <td>0</td>\n",
       "      <td>1</td>\n",
       "    </tr>\n",
       "    <tr>\n",
       "      <th>3</th>\n",
       "      <td>4.jpg</td>\n",
       "      <td>human,hair,interior</td>\n",
       "      <td>[1, 1, 1]</td>\n",
       "      <td>1</td>\n",
       "      <td>1</td>\n",
       "      <td>1</td>\n",
       "    </tr>\n",
       "    <tr>\n",
       "      <th>4</th>\n",
       "      <td>5.jpg</td>\n",
       "      <td>human,interior</td>\n",
       "      <td>[1, 0, 1]</td>\n",
       "      <td>1</td>\n",
       "      <td>0</td>\n",
       "      <td>1</td>\n",
       "    </tr>\n",
       "  </tbody>\n",
       "</table>\n",
       "</div>"
      ],
      "text/plain": [
       "   image                class     class2  human  hair  interior\n",
       "0  1.jpg  human,hair,interior  [1, 1, 1]      1     1         1\n",
       "1  2.jpg       human,interior  [1, 0, 1]      1     0         1\n",
       "2  3.jpg             interior  [0, 0, 1]      0     0         1\n",
       "3  4.jpg  human,hair,interior  [1, 1, 1]      1     1         1\n",
       "4  5.jpg       human,interior  [1, 0, 1]      1     0         1"
      ]
     },
     "execution_count": 75,
     "metadata": {},
     "output_type": "execute_result"
    }
   ],
   "source": [
    "gt_df[labels] = gt_df[\"class2\"].apply(pd.Series)\n",
    "gt_df.head()"
   ]
  },
  {
   "cell_type": "code",
   "execution_count": 76,
   "metadata": {},
   "outputs": [
    {
     "data": {
      "text/html": [
       "<div>\n",
       "<style scoped>\n",
       "    .dataframe tbody tr th:only-of-type {\n",
       "        vertical-align: middle;\n",
       "    }\n",
       "\n",
       "    .dataframe tbody tr th {\n",
       "        vertical-align: top;\n",
       "    }\n",
       "\n",
       "    .dataframe thead th {\n",
       "        text-align: right;\n",
       "    }\n",
       "</style>\n",
       "<table border=\"1\" class=\"dataframe\">\n",
       "  <thead>\n",
       "    <tr style=\"text-align: right;\">\n",
       "      <th></th>\n",
       "      <th>image</th>\n",
       "      <th>class</th>\n",
       "      <th>class2</th>\n",
       "      <th>human</th>\n",
       "      <th>hair</th>\n",
       "      <th>interior</th>\n",
       "    </tr>\n",
       "  </thead>\n",
       "  <tbody>\n",
       "    <tr>\n",
       "      <th>0</th>\n",
       "      <td>5.jpg</td>\n",
       "      <td>human,interior</td>\n",
       "      <td>[1, 0, 1]</td>\n",
       "      <td>1</td>\n",
       "      <td>0</td>\n",
       "      <td>1</td>\n",
       "    </tr>\n",
       "    <tr>\n",
       "      <th>1</th>\n",
       "      <td>3.jpg</td>\n",
       "      <td>interior</td>\n",
       "      <td>[0, 0, 1]</td>\n",
       "      <td>0</td>\n",
       "      <td>0</td>\n",
       "      <td>1</td>\n",
       "    </tr>\n",
       "    <tr>\n",
       "      <th>2</th>\n",
       "      <td>6.jpg</td>\n",
       "      <td>human,hair,interior</td>\n",
       "      <td>[1, 1, 1]</td>\n",
       "      <td>1</td>\n",
       "      <td>1</td>\n",
       "      <td>1</td>\n",
       "    </tr>\n",
       "    <tr>\n",
       "      <th>3</th>\n",
       "      <td>1.jpg</td>\n",
       "      <td>human,hair,interior</td>\n",
       "      <td>[1, 1, 1]</td>\n",
       "      <td>1</td>\n",
       "      <td>1</td>\n",
       "      <td>1</td>\n",
       "    </tr>\n",
       "    <tr>\n",
       "      <th>4</th>\n",
       "      <td>8.jpg</td>\n",
       "      <td>human,hair,interior</td>\n",
       "      <td>[1, 1, 1]</td>\n",
       "      <td>1</td>\n",
       "      <td>1</td>\n",
       "      <td>1</td>\n",
       "    </tr>\n",
       "  </tbody>\n",
       "</table>\n",
       "</div>"
      ],
      "text/plain": [
       "   image                class     class2  human  hair  interior\n",
       "0  5.jpg       human,interior  [1, 0, 1]      1     0         1\n",
       "1  3.jpg             interior  [0, 0, 1]      0     0         1\n",
       "2  6.jpg  human,hair,interior  [1, 1, 1]      1     1         1\n",
       "3  1.jpg  human,hair,interior  [1, 1, 1]      1     1         1\n",
       "4  8.jpg  human,hair,interior  [1, 1, 1]      1     1         1"
      ]
     },
     "execution_count": 76,
     "metadata": {},
     "output_type": "execute_result"
    }
   ],
   "source": [
    "gt_df = gt_df.sample(frac=1).reset_index(drop=True)\n",
    "gt_df.head()"
   ]
  },
  {
   "cell_type": "code",
   "execution_count": 77,
   "metadata": {},
   "outputs": [
    {
     "data": {
      "text/html": [
       "<div>\n",
       "<style scoped>\n",
       "    .dataframe tbody tr th:only-of-type {\n",
       "        vertical-align: middle;\n",
       "    }\n",
       "\n",
       "    .dataframe tbody tr th {\n",
       "        vertical-align: top;\n",
       "    }\n",
       "\n",
       "    .dataframe thead th {\n",
       "        text-align: right;\n",
       "    }\n",
       "</style>\n",
       "<table border=\"1\" class=\"dataframe\">\n",
       "  <thead>\n",
       "    <tr style=\"text-align: right;\">\n",
       "      <th></th>\n",
       "      <th>image</th>\n",
       "      <th>class</th>\n",
       "      <th>class2</th>\n",
       "      <th>human</th>\n",
       "      <th>hair</th>\n",
       "      <th>interior</th>\n",
       "      <th>index</th>\n",
       "    </tr>\n",
       "  </thead>\n",
       "  <tbody>\n",
       "    <tr>\n",
       "      <th>0</th>\n",
       "      <td>5.jpg</td>\n",
       "      <td>human,interior</td>\n",
       "      <td>[1, 0, 1]</td>\n",
       "      <td>1</td>\n",
       "      <td>0</td>\n",
       "      <td>1</td>\n",
       "      <td>1</td>\n",
       "    </tr>\n",
       "    <tr>\n",
       "      <th>1</th>\n",
       "      <td>3.jpg</td>\n",
       "      <td>interior</td>\n",
       "      <td>[0, 0, 1]</td>\n",
       "      <td>0</td>\n",
       "      <td>0</td>\n",
       "      <td>1</td>\n",
       "      <td>2</td>\n",
       "    </tr>\n",
       "    <tr>\n",
       "      <th>2</th>\n",
       "      <td>6.jpg</td>\n",
       "      <td>human,hair,interior</td>\n",
       "      <td>[1, 1, 1]</td>\n",
       "      <td>1</td>\n",
       "      <td>1</td>\n",
       "      <td>1</td>\n",
       "      <td>3</td>\n",
       "    </tr>\n",
       "    <tr>\n",
       "      <th>3</th>\n",
       "      <td>1.jpg</td>\n",
       "      <td>human,hair,interior</td>\n",
       "      <td>[1, 1, 1]</td>\n",
       "      <td>1</td>\n",
       "      <td>1</td>\n",
       "      <td>1</td>\n",
       "      <td>4</td>\n",
       "    </tr>\n",
       "    <tr>\n",
       "      <th>4</th>\n",
       "      <td>8.jpg</td>\n",
       "      <td>human,hair,interior</td>\n",
       "      <td>[1, 1, 1]</td>\n",
       "      <td>1</td>\n",
       "      <td>1</td>\n",
       "      <td>1</td>\n",
       "      <td>5</td>\n",
       "    </tr>\n",
       "  </tbody>\n",
       "</table>\n",
       "</div>"
      ],
      "text/plain": [
       "   image                class     class2  human  hair  interior  index\n",
       "0  5.jpg       human,interior  [1, 0, 1]      1     0         1      1\n",
       "1  3.jpg             interior  [0, 0, 1]      0     0         1      2\n",
       "2  6.jpg  human,hair,interior  [1, 1, 1]      1     1         1      3\n",
       "3  1.jpg  human,hair,interior  [1, 1, 1]      1     1         1      4\n",
       "4  8.jpg  human,hair,interior  [1, 1, 1]      1     1         1      5"
      ]
     },
     "execution_count": 77,
     "metadata": {},
     "output_type": "execute_result"
    }
   ],
   "source": [
    "gt_df[\"index\"] = gt_df.index + 1\n",
    "gt_df.head()"
   ]
  },
  {
   "cell_type": "code",
   "execution_count": 78,
   "metadata": {},
   "outputs": [
    {
     "name": "stdout",
     "output_type": "stream",
     "text": [
      "['index', 'human', 'hair', 'interior', 'image']\n"
     ]
    }
   ],
   "source": [
    "sel_cols = [\"index\"] + labels + [\"image\"]\n",
    "print(sel_cols)"
   ]
  },
  {
   "cell_type": "code",
   "execution_count": 79,
   "metadata": {},
   "outputs": [
    {
     "name": "stdout",
     "output_type": "stream",
     "text": [
      "1\t1\t0\t1\t5.jpg\n",
      "2\t0\t0\t1\t3.jpg\n",
      "3\t1\t1\t1\t6.jpg\n",
      "4\t1\t1\t1\t1.jpg\n",
      "5\t1\t1\t1\t8.jpg\n"
     ]
    }
   ],
   "source": [
    "gt_df[sel_cols].head(ntrain).to_csv(\n",
    "    \"prepare_data/img_clf_multilabel_lst/train_annots/train.lst\",\n",
    "    sep=\"\\t\",\n",
    "    index=False,\n",
    "    header=False,\n",
    ")\n",
    "!head -n 5 prepare_data/img_clf_multilabel_lst/train_annots/train.lst"
   ]
  },
  {
   "cell_type": "code",
   "execution_count": 80,
   "metadata": {},
   "outputs": [
    {
     "name": "stdout",
     "output_type": "stream",
     "text": [
      "8\t1\t0\t1\t2.jpg\n",
      "9\t1\t1\t1\t9.jpg\n",
      "10\t1\t1\t1\t11.jpg\n",
      "11\t0\t0\t1\t7.jpg\n"
     ]
    }
   ],
   "source": [
    "gt_df[sel_cols].tail(nvalid).to_csv(\n",
    "    \"prepare_data/img_clf_multilabel_lst/valid_annots/valid.lst\",\n",
    "    sep=\"\\t\",\n",
    "    index=False,\n",
    "    header=False,\n",
    ")\n",
    "!head -n 5 prepare_data/img_clf_multilabel_lst/valid_annots/valid.lst"
   ]
  },
  {
   "cell_type": "code",
   "execution_count": 81,
   "metadata": {},
   "outputs": [],
   "source": [
    "train_df = pd.read_csv(\n",
    "    \"prepare_data/img_clf_multilabel_lst/train_annots/train.lst\", sep=\"\\t\", header=None\n",
    ")\n",
    "images = list(train_df[train_df.columns[-1]].values)\n",
    "for image in images:\n",
    "    shutil.copy(\n",
    "        \"prepare_data/img_clf_multilabel_lst/all_images_gt/\" + image,\n",
    "        \"prepare_data/img_clf_multilabel_lst/train_imgs/\",\n",
    "    )"
   ]
  },
  {
   "cell_type": "code",
   "execution_count": 82,
   "metadata": {},
   "outputs": [
    {
     "name": "stdout",
     "output_type": "stream",
     "text": [
      "    0  1  2  3       4\n",
      "0   8  1  0  1   2.jpg\n",
      "1   9  1  1  1   9.jpg\n",
      "2  10  1  1  1  11.jpg\n",
      "3  11  0  0  1   7.jpg\n",
      "2.jpg\n",
      "9.jpg\n",
      "11.jpg\n",
      "7.jpg\n"
     ]
    }
   ],
   "source": [
    "valid_df = pd.read_csv(\n",
    "    \"prepare_data/img_clf_multilabel_lst/valid_annots/valid.lst\", sep=\"\\t\", header=None\n",
    ")\n",
    "print(valid_df)\n",
    "images = list(valid_df[valid_df.columns[-1]].values)\n",
    "for image in images:\n",
    "    # print image\n",
    "    print(image)\n",
    "    shutil.copy(\n",
    "        \"prepare_data/img_clf_multilabel_lst/all_images_gt/\" + image,\n",
    "        \"prepare_data/img_clf_multilabel_lst/valid_imgs/\",\n",
    "    )"
   ]
  }
 ],
 "metadata": {
  "kernelspec": {
   "display_name": "env",
   "language": "python",
   "name": "python3"
  },
  "language_info": {
   "codemirror_mode": {
    "name": "ipython",
    "version": 3
   },
   "file_extension": ".py",
   "mimetype": "text/x-python",
   "name": "python",
   "nbconvert_exporter": "python",
   "pygments_lexer": "ipython3",
   "version": "3.10.12"
  }
 },
 "nbformat": 4,
 "nbformat_minor": 2
}
